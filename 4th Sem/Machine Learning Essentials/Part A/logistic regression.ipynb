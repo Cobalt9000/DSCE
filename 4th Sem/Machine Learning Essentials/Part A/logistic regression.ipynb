{
 "cells": [
  {
   "cell_type": "code",
   "execution_count": 1,
   "id": "093eb790",
   "metadata": {},
   "outputs": [],
   "source": [
    "##Logistic Reg\n",
    "##Library\n",
    "import pandas as pd\n",
    "from sklearn.model_selection import train_test_split\n",
    "import statsmodels.api as sm\n",
    "from sklearn import metrics"
   ]
  },
  {
   "cell_type": "code",
   "execution_count": 2,
   "id": "851f7f2a",
   "metadata": {},
   "outputs": [
    {
     "name": "stdout",
     "output_type": "stream",
     "text": [
      "<class 'pandas.core.frame.DataFrame'>\n",
      "RangeIndex: 150 entries, 0 to 149\n",
      "Data columns (total 5 columns):\n",
      " #   Column          Non-Null Count  Dtype  \n",
      "---  ------          --------------  -----  \n",
      " 0   Dependents      150 non-null    object \n",
      " 1   tenure          150 non-null    int64  \n",
      " 2   MonthlyCharges  150 non-null    float64\n",
      " 3   TotalCharges    150 non-null    float64\n",
      " 4   Churn           150 non-null    int64  \n",
      "dtypes: float64(2), int64(2), object(1)\n",
      "memory usage: 6.0+ KB\n"
     ]
    }
   ],
   "source": [
    "#Read Data ( set your file path)\n",
    "data = pd.read_csv('2_logistic_regression_data.csv')\n",
    "data.info()"
   ]
  },
  {
   "cell_type": "code",
   "execution_count": 4,
   "id": "b6459f58",
   "metadata": {},
   "outputs": [],
   "source": [
    "#Dummies\n",
    "modeling_data = pd.get_dummies(data, columns=['Dependents'],drop_first=True)"
   ]
  },
  {
   "cell_type": "code",
   "execution_count": 5,
   "id": "433799b8",
   "metadata": {},
   "outputs": [],
   "source": [
    "#Dependent & Independent Variable split\n",
    "Y = modeling_data['Churn']\n",
    "X = modeling_data.drop(['Churn'], axis=1)"
   ]
  },
  {
   "cell_type": "code",
   "execution_count": 6,
   "id": "d55d8127",
   "metadata": {},
   "outputs": [
    {
     "name": "stdout",
     "output_type": "stream",
     "text": [
      "Optimization terminated successfully.\n",
      "         Current function value: 0.105097\n",
      "         Iterations 11\n",
      "                           Logit Regression Results                           \n",
      "==============================================================================\n",
      "Dep. Variable:                  Churn   No. Observations:                  150\n",
      "Model:                          Logit   Df Residuals:                      146\n",
      "Method:                           MLE   Df Model:                            3\n",
      "Date:                Tue, 12 Sep 2023   Pseudo R-squ.:                  0.8036\n",
      "Time:                        20:42:44   Log-Likelihood:                -15.765\n",
      "converged:                       True   LL-Null:                       -80.283\n",
      "Covariance Type:            nonrobust   LLR p-value:                 8.726e-28\n",
      "==================================================================================\n",
      "                     coef    std err          z      P>|z|      [0.025      0.975]\n",
      "----------------------------------------------------------------------------------\n",
      "tenure            -0.1840      0.051     -3.630      0.000      -0.283      -0.085\n",
      "MonthlyCharges    -0.2614      0.079     -3.329      0.001      -0.415      -0.108\n",
      "TotalCharges       0.0066      0.002      3.547      0.000       0.003       0.010\n",
      "Dependents_Yes     6.8330      1.964      3.480      0.001       2.985      10.681\n",
      "==================================================================================\n",
      "\n",
      "Possibly complete quasi-separation: A fraction 0.41 of observations can be\n",
      "perfectly predicted. This might indicate that there is complete\n",
      "quasi-separation. In this case some parameters will not be identified.\n"
     ]
    }
   ],
   "source": [
    "#Model Training\n",
    "log_reg = sm.Logit(Y.astype(float), X.astype(float)).fit()\n",
    "print(log_reg.summary())"
   ]
  },
  {
   "cell_type": "code",
   "execution_count": 7,
   "id": "43659258",
   "metadata": {},
   "outputs": [],
   "source": [
    "Y_pred = log_reg.predict(X)\n",
    "Predicted_Churn = [1 if x > 0.5 else 0 for x in Y_pred]"
   ]
  },
  {
   "cell_type": "code",
   "execution_count": 8,
   "id": "b5df1816",
   "metadata": {},
   "outputs": [
    {
     "name": "stdout",
     "output_type": "stream",
     "text": [
      "              precision    recall  f1-score   support\n",
      "\n",
      "           0       0.95      0.97      0.96       116\n",
      "           1       0.88      0.82      0.85        34\n",
      "\n",
      "    accuracy                           0.93       150\n",
      "   macro avg       0.91      0.89      0.90       150\n",
      "weighted avg       0.93      0.93      0.93       150\n",
      "\n"
     ]
    }
   ],
   "source": [
    "print(metrics.classification_report(Y, Predicted_Churn))"
   ]
  },
  {
   "cell_type": "code",
   "execution_count": null,
   "id": "2aa32999",
   "metadata": {},
   "outputs": [],
   "source": []
  }
 ],
 "metadata": {
  "kernelspec": {
   "display_name": "Python 3 (ipykernel)",
   "language": "python",
   "name": "python3"
  },
  "language_info": {
   "codemirror_mode": {
    "name": "ipython",
    "version": 3
   },
   "file_extension": ".py",
   "mimetype": "text/x-python",
   "name": "python",
   "nbconvert_exporter": "python",
   "pygments_lexer": "ipython3",
   "version": "3.9.13"
  }
 },
 "nbformat": 4,
 "nbformat_minor": 5
}
