{
 "cells": [
  {
   "cell_type": "code",
   "execution_count": 1,
   "id": "88e0d470",
   "metadata": {},
   "outputs": [],
   "source": [
    "import pandas as pd\n",
    "import numpy as np\n",
    "import matplotlib.pyplot as plt\n",
    "import seaborn as sns\n",
    "from sklearn.model_selection import train_test_split\n",
    "import statsmodels.api as sm\n",
    "import statsmodels.formula.api as smf\n",
    "from statsmodels.stats.diagnostic import normal_ad\n",
    "from statsmodels.stats.diagnostic import het_white\n",
    "from statsmodels.stats.outliers_influence import variance_inflation_factor\n",
    "from statsmodels.tools.tools import add_constant"
   ]
  },
  {
   "cell_type": "code",
   "execution_count": 2,
   "id": "63916b4f",
   "metadata": {},
   "outputs": [
    {
     "data": {
      "text/html": [
       "<div>\n",
       "<style scoped>\n",
       "    .dataframe tbody tr th:only-of-type {\n",
       "        vertical-align: middle;\n",
       "    }\n",
       "\n",
       "    .dataframe tbody tr th {\n",
       "        vertical-align: top;\n",
       "    }\n",
       "\n",
       "    .dataframe thead th {\n",
       "        text-align: right;\n",
       "    }\n",
       "</style>\n",
       "<table border=\"1\" class=\"dataframe\">\n",
       "  <thead>\n",
       "    <tr style=\"text-align: right;\">\n",
       "      <th></th>\n",
       "      <th>Id</th>\n",
       "      <th>Car_Name</th>\n",
       "      <th>Aspirational_Value</th>\n",
       "      <th>Age</th>\n",
       "      <th>km_driven</th>\n",
       "      <th>fuel</th>\n",
       "      <th>transmission</th>\n",
       "      <th>selling_price</th>\n",
       "    </tr>\n",
       "  </thead>\n",
       "  <tbody>\n",
       "    <tr>\n",
       "      <th>0</th>\n",
       "      <td>1</td>\n",
       "      <td>WagonR</td>\n",
       "      <td>General</td>\n",
       "      <td>15</td>\n",
       "      <td>50000</td>\n",
       "      <td>Petrol</td>\n",
       "      <td>Manual</td>\n",
       "      <td>135000</td>\n",
       "    </tr>\n",
       "    <tr>\n",
       "      <th>1</th>\n",
       "      <td>7</td>\n",
       "      <td>Indigo</td>\n",
       "      <td>General</td>\n",
       "      <td>8</td>\n",
       "      <td>60000</td>\n",
       "      <td>Petrol</td>\n",
       "      <td>Manual</td>\n",
       "      <td>240000</td>\n",
       "    </tr>\n",
       "    <tr>\n",
       "      <th>2</th>\n",
       "      <td>9</td>\n",
       "      <td>Celerio</td>\n",
       "      <td>General</td>\n",
       "      <td>5</td>\n",
       "      <td>78000</td>\n",
       "      <td>CNG</td>\n",
       "      <td>Manual</td>\n",
       "      <td>365000</td>\n",
       "    </tr>\n",
       "    <tr>\n",
       "      <th>3</th>\n",
       "      <td>17</td>\n",
       "      <td>Amaze</td>\n",
       "      <td>General</td>\n",
       "      <td>8</td>\n",
       "      <td>141000</td>\n",
       "      <td>Diesel</td>\n",
       "      <td>Manual</td>\n",
       "      <td>450000</td>\n",
       "    </tr>\n",
       "    <tr>\n",
       "      <th>4</th>\n",
       "      <td>19</td>\n",
       "      <td>Xcent</td>\n",
       "      <td>General</td>\n",
       "      <td>6</td>\n",
       "      <td>25000</td>\n",
       "      <td>Petrol</td>\n",
       "      <td>Manual</td>\n",
       "      <td>550000</td>\n",
       "    </tr>\n",
       "  </tbody>\n",
       "</table>\n",
       "</div>"
      ],
      "text/plain": [
       "   Id Car_Name Aspirational_Value  Age  km_driven    fuel transmission  \\\n",
       "0   1   WagonR            General   15      50000  Petrol       Manual   \n",
       "1   7   Indigo            General    8      60000  Petrol       Manual   \n",
       "2   9  Celerio            General    5      78000     CNG       Manual   \n",
       "3  17    Amaze            General    8     141000  Diesel       Manual   \n",
       "4  19    Xcent            General    6      25000  Petrol       Manual   \n",
       "\n",
       "   selling_price  \n",
       "0         135000  \n",
       "1         240000  \n",
       "2         365000  \n",
       "3         450000  \n",
       "4         550000  "
      ]
     },
     "execution_count": 2,
     "metadata": {},
     "output_type": "execute_result"
    }
   ],
   "source": [
    "df = pd.read_csv('lrreg_data.csv')\n",
    "df.head()"
   ]
  },
  {
   "cell_type": "code",
   "execution_count": 3,
   "id": "7351d720",
   "metadata": {},
   "outputs": [
    {
     "name": "stdout",
     "output_type": "stream",
     "text": [
      "<class 'pandas.core.frame.DataFrame'>\n",
      "RangeIndex: 1200 entries, 0 to 1199\n",
      "Data columns (total 8 columns):\n",
      " #   Column              Non-Null Count  Dtype \n",
      "---  ------              --------------  ----- \n",
      " 0   Id                  1200 non-null   int64 \n",
      " 1   Car_Name            1200 non-null   object\n",
      " 2   Aspirational_Value  1200 non-null   object\n",
      " 3   Age                 1200 non-null   int64 \n",
      " 4   km_driven           1200 non-null   int64 \n",
      " 5   fuel                1200 non-null   object\n",
      " 6   transmission        1200 non-null   object\n",
      " 7   selling_price       1200 non-null   int64 \n",
      "dtypes: int64(4), object(4)\n",
      "memory usage: 75.1+ KB\n"
     ]
    }
   ],
   "source": [
    "df.info()"
   ]
  },
  {
   "cell_type": "code",
   "execution_count": 4,
   "id": "6d97d50a",
   "metadata": {},
   "outputs": [
    {
     "data": {
      "text/plain": [
       "Id                    0\n",
       "Car_Name              0\n",
       "Aspirational_Value    0\n",
       "Age                   0\n",
       "km_driven             0\n",
       "fuel                  0\n",
       "transmission          0\n",
       "selling_price         0\n",
       "dtype: int64"
      ]
     },
     "execution_count": 4,
     "metadata": {},
     "output_type": "execute_result"
    }
   ],
   "source": [
    "df.isna().sum()"
   ]
  },
  {
   "cell_type": "code",
   "execution_count": 5,
   "id": "e8d9f823",
   "metadata": {},
   "outputs": [
    {
     "data": {
      "image/png": "[encoded data removed]",
      "text/plain": [
       "<Figure size 640x480 with 1 Axes>"
      ]
     },
     "metadata": {},
     "output_type": "display_data"
    }
   ],
   "source": [
    "sns.boxplot(x='Age', data=df)\n",
    "plt.show()"
   ]
  },
  {
   "cell_type": "code",
   "execution_count": 6,
   "id": "6a188e25",
   "metadata": {},
   "outputs": [
    {
     "data": {
      "image/png": "[encoded data removed]",
      "text/plain": [
       "<Figure size 640x480 with 1 Axes>"
      ]
     },
     "metadata": {},
     "output_type": "display_data"
    }
   ],
   "source": [
    "sns.boxplot(x='km_driven', data=df)\n",
    "plt.show()"
   ]
  },
  {
   "cell_type": "code",
   "execution_count": 7,
   "id": "b7a475d6",
   "metadata": {},
   "outputs": [
    {
     "name": "stdout",
     "output_type": "stream",
     "text": [
      "outlier in dataset is [25, 24]\n",
      "minimum of the outlier list 24\n",
      "Median of the column excluding outliers--> 8.0\n"
     ]
    }
   ],
   "source": [
    "## Outlier treatment with Z Score\n",
    "\n",
    "threshold = 3\n",
    "outlier = []\n",
    "\n",
    "for i in df['Age']:\n",
    "    z = (i-df['Age'].mean())/df['Age'].std()\n",
    "    if z > threshold:\n",
    "        outlier.append(i)\n",
    "        \n",
    "print('outlier in dataset is', outlier)\n",
    "print('minimum of the outlier list', min(outlier))\n",
    "\n",
    "## calculate the median for the column excluding the outlier\n",
    "med = df.loc[df['Age']<= min(outlier), 'Age'].median()\n",
    "print('Median of the column excluding outliers-->',med)\n",
    "\n",
    "f = lambda x: med if x>= min(outlier) else x\n",
    "df['out_treated_age'] = df['Age'].map(f)\n",
    "\n",
    "max(df['out_treated_age'])\n",
    "\n",
    "df.drop(['Age'], axis=1,inplace = True)"
   ]
  },
  {
   "cell_type": "code",
   "execution_count": 8,
   "id": "9ebae8a2",
   "metadata": {},
   "outputs": [
    {
     "data": {
      "image/png": "[encoded data removed]",
      "text/plain": [
       "<Figure size 640x480 with 1 Axes>"
      ]
     },
     "metadata": {},
     "output_type": "display_data"
    }
   ],
   "source": [
    "sns.boxplot(x='out_treated_age', data=df)\n",
    "plt.show()"
   ]
  },
  {
   "cell_type": "code",
   "execution_count": 9,
   "id": "bc95484a",
   "metadata": {},
   "outputs": [
    {
     "name": "stdout",
     "output_type": "stream",
     "text": [
      "outlier in dataset is [230000, 220000, 220000, 250000]\n",
      "minimum of the outlier list 220000\n",
      "Median of the column excluding outliers--> 60000.0\n"
     ]
    }
   ],
   "source": [
    "## Outlier treatment with Z Score\n",
    "\n",
    "threshold = 3\n",
    "outlier = []\n",
    "\n",
    "for i in df['km_driven']:\n",
    "    z = (i-df['km_driven'].mean())/df['km_driven'].std()\n",
    "    if z > threshold:\n",
    "        outlier.append(i)\n",
    "        \n",
    "print('outlier in dataset is', outlier)\n",
    "print('minimum of the outlier list', min(outlier))\n",
    "\n",
    "## calculate the median for the column excluding the outlier\n",
    "med = df.loc[df['km_driven']<= min(outlier), 'km_driven'].median()\n",
    "print('Median of the column excluding outliers-->',med)\n",
    "\n",
    "f = lambda x: med if x>= min(outlier) else x\n",
    "df['out_treated_km_driven'] = df['km_driven'].map(f)\n",
    "\n",
    "max(df['out_treated_km_driven'])\n",
    "\n",
    "df.drop(['km_driven'], axis=1,inplace = True)"
   ]
  },
  {
   "cell_type": "code",
   "execution_count": 10,
   "id": "eb98d911",
   "metadata": {},
   "outputs": [
    {
     "data": {
      "image/png": "[encoded data removed]",
      "text/plain": [
       "<Figure size 640x480 with 1 Axes>"
      ]
     },
     "metadata": {},
     "output_type": "display_data"
    }
   ],
   "source": [
    "sns.boxplot(x='out_treated_km_driven', data=df)\n",
    "plt.show()"
   ]
  },
  {
   "cell_type": "code",
   "execution_count": 11,
   "id": "104bd86b",
   "metadata": {},
   "outputs": [
    {
     "data": {
      "text/plain": [
       "Index(['Id', 'selling_price', 'out_treated_age', 'out_treated_km_driven',\n",
       "       'Aspirational_Value_Premium', 'fuel_Diesel', 'fuel_LPG', 'fuel_Petrol',\n",
       "       'transmission_Manual'],\n",
       "      dtype='object')"
      ]
     },
     "execution_count": 11,
     "metadata": {},
     "output_type": "execute_result"
    }
   ],
   "source": [
    "data = df.drop('Car_Name',axis=1)\n",
    "dummy_data = pd.get_dummies(data,drop_first = True)\n",
    "dummy_data.columns"
   ]
  },
  {
   "cell_type": "code",
   "execution_count": 12,
   "id": "2d62d0cc",
   "metadata": {},
   "outputs": [
    {
     "name": "stdout",
     "output_type": "stream",
     "text": [
      "                            OLS Regression Results                            \n",
      "==============================================================================\n",
      "Dep. Variable:          selling_price   R-squared:                       0.524\n",
      "Model:                            OLS   Adj. R-squared:                  0.520\n",
      "Method:                 Least Squares   F-statistic:                     130.7\n",
      "Date:                Tue, 12 Sep 2023   Prob (F-statistic):          1.73e-147\n",
      "Time:                        22:25:38   Log-Likelihood:                -13801.\n",
      "No. Observations:                 960   AIC:                         2.762e+04\n",
      "Df Residuals:                     951   BIC:                         2.766e+04\n",
      "Df Model:                           8                                         \n",
      "Covariance Type:            nonrobust                                         \n",
      "==============================================================================================\n",
      "                                 coef    std err          t      P>|t|      [0.025      0.975]\n",
      "----------------------------------------------------------------------------------------------\n",
      "const                       1.563e+06   1.54e+05     10.162      0.000    1.26e+06    1.86e+06\n",
      "Id                            -5.0571     11.150     -0.454      0.650     -26.939      16.825\n",
      "out_treated_age            -3.351e+04   4236.902     -7.909      0.000   -4.18e+04   -2.52e+04\n",
      "out_treated_km_driven         -2.2075      0.457     -4.831      0.000      -3.104      -1.311\n",
      "Aspirational_Value_Premium  3.726e+05   4.04e+04      9.225      0.000    2.93e+05    4.52e+05\n",
      "fuel_Diesel                 2.594e+05   1.44e+05      1.800      0.072   -2.34e+04    5.42e+05\n",
      "fuel_LPG                    9.147e+04   2.25e+05      0.406      0.685    -3.5e+05    5.33e+05\n",
      "fuel_Petrol                 1.334e+04   1.44e+05      0.093      0.926   -2.69e+05    2.95e+05\n",
      "transmission_Manual        -8.822e+05   5.09e+04    -17.337      0.000   -9.82e+05   -7.82e+05\n",
      "==============================================================================\n",
      "Omnibus:                     1082.099   Durbin-Watson:                   2.025\n",
      "Prob(Omnibus):                  0.000   Jarque-Bera (JB):           153306.493\n",
      "Skew:                           5.261   Prob(JB):                         0.00\n",
      "Kurtosis:                      64.008   Cond. No.                     1.66e+06\n",
      "==============================================================================\n",
      "\n",
      "Notes:\n",
      "[1] Standard Errors assume that the covariance matrix of the errors is correctly specified.\n",
      "[2] The condition number is large, 1.66e+06. This might indicate that there are\n",
      "strong multicollinearity or other numerical problems.\n"
     ]
    }
   ],
   "source": [
    "y=dummy_data['selling_price']\n",
    "X=dummy_data.drop('selling_price', axis=1)\n",
    "X_train, X_test, y_train, y_test = train_test_split(X,y, test_size=0.2, random_state=1)\n",
    "train_data = pd.concat([X_train,y_train], axis = 1)\n",
    "test_data = pd.concat([X_test,y_test], axis = 1)\n",
    "\n",
    "X_train = sm.add_constant(X_train)\n",
    "model = sm.OLS(y_train,X_train)\n",
    "reg_model = model.fit()\n",
    "print(reg_model.summary())"
   ]
  },
  {
   "cell_type": "code",
   "execution_count": 17,
   "id": "69373309",
   "metadata": {},
   "outputs": [
    {
     "name": "stdout",
     "output_type": "stream",
     "text": [
      "                            OLS Regression Results                            \n",
      "==============================================================================\n",
      "Dep. Variable:          selling_price   R-squared:                       0.524\n",
      "Model:                            OLS   Adj. R-squared:                  0.520\n",
      "Method:                 Least Squares   F-statistic:                     149.5\n",
      "Date:                Tue, 12 Sep 2023   Prob (F-statistic):          1.51e-148\n",
      "Time:                        22:31:52   Log-Likelihood:                -13802.\n",
      "No. Observations:                 960   AIC:                         2.762e+04\n",
      "Df Residuals:                     952   BIC:                         2.766e+04\n",
      "Df Model:                           7                                         \n",
      "Covariance Type:            nonrobust                                         \n",
      "==============================================================================================\n",
      "                                 coef    std err          t      P>|t|      [0.025      0.975]\n",
      "----------------------------------------------------------------------------------------------\n",
      "Intercept                   1.553e+06   1.52e+05     10.207      0.000    1.25e+06    1.85e+06\n",
      "out_treated_age            -3.351e+04   4235.129     -7.912      0.000   -4.18e+04   -2.52e+04\n",
      "out_treated_km_driven         -2.2116      0.457     -4.843      0.000      -3.108      -1.315\n",
      "Aspirational_Value_Premium   3.72e+05   4.04e+04      9.219      0.000    2.93e+05    4.51e+05\n",
      "fuel_Diesel                 2.595e+05   1.44e+05      1.801      0.072   -2.33e+04    5.42e+05\n",
      "fuel_Petrol                 1.335e+04   1.44e+05      0.093      0.926   -2.68e+05    2.95e+05\n",
      "fuel_LPG                    9.226e+04   2.25e+05      0.410      0.682   -3.49e+05    5.34e+05\n",
      "transmission_Manual         -8.83e+05   5.08e+04    -17.373      0.000   -9.83e+05   -7.83e+05\n",
      "==============================================================================\n",
      "Omnibus:                     1083.508   Durbin-Watson:                   2.026\n",
      "Prob(Omnibus):                  0.000   Jarque-Bera (JB):           154453.888\n",
      "Skew:                           5.271   Prob(JB):                         0.00\n",
      "Kurtosis:                      64.239   Cond. No.                     1.65e+06\n",
      "==============================================================================\n",
      "\n",
      "Notes:\n",
      "[1] Standard Errors assume that the covariance matrix of the errors is correctly specified.\n",
      "[2] The condition number is large, 1.65e+06. This might indicate that there are\n",
      "strong multicollinearity or other numerical problems.\n"
     ]
    }
   ],
   "source": [
    "# 2nd Iteration of model training\n",
    "#  ['Id', 'selling_price', 'out_treated_age', 'out_treated_km_driven',\n",
    "#        'Aspirational_Value_Premium', 'fuel_Diesel', 'fuel_LPG', \n",
    "# 'fuel_Petrol', 'transmission_Manual']\n",
    "formula = 'selling_price ~ out_treated_age + out_treated_km_driven + Aspirational_Value_Premium + fuel_Diesel + \\\n",
    "            fuel_Petrol + fuel_LPG + transmission_Manual'\n",
    "\n",
    "X_train = sm.add_constant(X_train)\n",
    "model2 = smf.ols(formula,data = train_data)\n",
    "reg_model2 = model2.fit()\n",
    "print(reg_model2.summary())"
   ]
  },
  {
   "cell_type": "code",
   "execution_count": 19,
   "id": "16a22bde",
   "metadata": {},
   "outputs": [],
   "source": [
    "train_data_for_pred = train_data[['out_treated_age','out_treated_km_driven','Aspirational_Value_Premium','fuel_Diesel',\\\n",
    "                                 'fuel_LPG','fuel_Petrol','transmission_Manual']]\n",
    "\n",
    "train_data_for_pred = sm.add_constant(train_data_for_pred)\n",
    "train_pred = reg_model2.predict(train_data_for_pred)\n",
    "\n",
    "test_data_for_pred = test_data[['out_treated_age','out_treated_km_driven','Aspirational_Value_Premium','fuel_Diesel',\\\n",
    "                                 'fuel_LPG','fuel_Petrol','transmission_Manual']]\n",
    "test_data_for_pred = sm.add_constant(test_data_for_pred)\n",
    "test_pred = reg_model2.predict(test_data_for_pred)"
   ]
  },
  {
   "cell_type": "code",
   "execution_count": 20,
   "id": "289ae076",
   "metadata": {},
   "outputs": [],
   "source": [
    "train_residuals = abs(train_data['selling_price']) - abs(train_pred)\n",
    "\n",
    "test_residuals = abs(test_data['selling_price']) - abs(test_pred)\n"
   ]
  },
  {
   "cell_type": "code",
   "execution_count": 21,
   "id": "67da171a",
   "metadata": {},
   "outputs": [
    {
     "name": "stdout",
     "output_type": "stream",
     "text": [
      "2.473513444537196e-25\n",
      "0.0\n"
     ]
    },
    {
     "name": "stderr",
     "output_type": "stream",
     "text": [
      "C:\\Users\\91984\\anaconda3\\lib\\site-packages\\statsmodels\\stats\\_adnorm.py:70: RuntimeWarning: divide by zero encountered in log1p\n",
      "  s = np.sum((2 * i[sl1] - 1.0) / nobs * (np.log(z) + np.log1p(-z[sl2])),\n",
      "C:\\Users\\91984\\anaconda3\\lib\\site-packages\\seaborn\\distributions.py:2619: FutureWarning: `distplot` is a deprecated function and will be removed in a future version. Please adapt your code to use either `displot` (a figure-level function with similar flexibility) or `histplot` (an axes-level function for histograms).\n",
      "  warnings.warn(msg, FutureWarning)\n"
     ]
    },
    {
     "data": {
      "image/png": "[encoded data removed]",
      "text/plain": [
       "<Figure size 1200x600 with 1 Axes>"
      ]
     },
     "metadata": {},
     "output_type": "display_data"
    },
    {
     "data": {
      "text/plain": [
       "'Residuals are not normally distributed, try after data transformation'"
      ]
     },
     "execution_count": 21,
     "metadata": {},
     "output_type": "execute_result"
    }
   ],
   "source": [
    "## Assumption-1 if the residuals are normally distributed\n",
    "\n",
    "'''\n",
    "H0 :- Data is normally distributed\n",
    "H1:- Data is not normally distributed '''\n",
    "\n",
    "print(normal_ad(test_residuals)[1])\n",
    "print(normal_ad(train_residuals)[1])\n",
    "\n",
    "plt.subplots(figsize=(12, 6))\n",
    "plt.title('Distribution of Residuals')\n",
    "sns.distplot(test_residuals)\n",
    "plt.show()\n",
    "'''Residuals are not normally distributed, try after data transformation'''\n",
    "\n",
    "\n"
   ]
  },
  {
   "cell_type": "code",
   "execution_count": 23,
   "id": "453e530c",
   "metadata": {},
   "outputs": [
    {
     "ename": "PatsyError",
     "evalue": "don't know what to do with a length 7 matrices tuple",
     "output_type": "error",
     "traceback": [
      "\u001b[1;31m---------------------------------------------------------------------------\u001b[0m",
      "\u001b[1;31mPatsyError\u001b[0m                                Traceback (most recent call last)",
      "\u001b[1;32m~\\AppData\\Local\\Temp\\ipykernel_36748\\2985268763.py\u001b[0m in \u001b[0;36m<module>\u001b[1;34m\u001b[0m\n\u001b[0;32m     16\u001b[0m \u001b[1;33m\u001b[0m\u001b[0m\n\u001b[0;32m     17\u001b[0m \u001b[0mX_train\u001b[0m \u001b[1;33m=\u001b[0m \u001b[0msm\u001b[0m\u001b[1;33m.\u001b[0m\u001b[0madd_constant\u001b[0m\u001b[1;33m(\u001b[0m\u001b[0mX_train\u001b[0m\u001b[1;33m)\u001b[0m\u001b[1;33m\u001b[0m\u001b[1;33m\u001b[0m\u001b[0m\n\u001b[1;32m---> 18\u001b[1;33m \u001b[0mmodel3\u001b[0m \u001b[1;33m=\u001b[0m \u001b[0msmf\u001b[0m\u001b[1;33m.\u001b[0m\u001b[0mols\u001b[0m\u001b[1;33m(\u001b[0m\u001b[0mformula\u001b[0m\u001b[1;33m,\u001b[0m\u001b[0mdata\u001b[0m \u001b[1;33m=\u001b[0m \u001b[0mtrain_data\u001b[0m\u001b[1;33m)\u001b[0m\u001b[1;33m\u001b[0m\u001b[1;33m\u001b[0m\u001b[0m\n\u001b[0m\u001b[0;32m     19\u001b[0m \u001b[0mreg_model3\u001b[0m \u001b[1;33m=\u001b[0m \u001b[0mmodel3\u001b[0m\u001b[1;33m.\u001b[0m\u001b[0mfit\u001b[0m\u001b[1;33m(\u001b[0m\u001b[1;33m)\u001b[0m\u001b[1;33m\u001b[0m\u001b[1;33m\u001b[0m\u001b[0m\n\u001b[0;32m     20\u001b[0m \u001b[0mprint\u001b[0m\u001b[1;33m(\u001b[0m\u001b[0mreg_model3\u001b[0m\u001b[1;33m.\u001b[0m\u001b[0msummary\u001b[0m\u001b[1;33m(\u001b[0m\u001b[1;33m)\u001b[0m\u001b[1;33m)\u001b[0m\u001b[1;33m\u001b[0m\u001b[1;33m\u001b[0m\u001b[0m\n",
      "\u001b[1;32m~\\anaconda3\\lib\\site-packages\\statsmodels\\base\\model.py\u001b[0m in \u001b[0;36mfrom_formula\u001b[1;34m(cls, formula, data, subset, drop_cols, *args, **kwargs)\u001b[0m\n\u001b[0;32m    198\u001b[0m             \u001b[0mmissing\u001b[0m \u001b[1;33m=\u001b[0m \u001b[1;34m'raise'\u001b[0m\u001b[1;33m\u001b[0m\u001b[1;33m\u001b[0m\u001b[0m\n\u001b[0;32m    199\u001b[0m \u001b[1;33m\u001b[0m\u001b[0m\n\u001b[1;32m--> 200\u001b[1;33m         tmp = handle_formula_data(data, None, formula, depth=eval_env,\n\u001b[0m\u001b[0;32m    201\u001b[0m                                   missing=missing)\n\u001b[0;32m    202\u001b[0m         \u001b[1;33m(\u001b[0m\u001b[1;33m(\u001b[0m\u001b[0mendog\u001b[0m\u001b[1;33m,\u001b[0m \u001b[0mexog\u001b[0m\u001b[1;33m)\u001b[0m\u001b[1;33m,\u001b[0m \u001b[0mmissing_idx\u001b[0m\u001b[1;33m,\u001b[0m \u001b[0mdesign_info\u001b[0m\u001b[1;33m)\u001b[0m \u001b[1;33m=\u001b[0m \u001b[0mtmp\u001b[0m\u001b[1;33m\u001b[0m\u001b[1;33m\u001b[0m\u001b[0m\n",
      "\u001b[1;32m~\\anaconda3\\lib\\site-packages\\statsmodels\\formula\\formulatools.py\u001b[0m in \u001b[0;36mhandle_formula_data\u001b[1;34m(Y, X, formula, depth, missing)\u001b[0m\n\u001b[0;32m     61\u001b[0m     \u001b[1;32melse\u001b[0m\u001b[1;33m:\u001b[0m\u001b[1;33m\u001b[0m\u001b[1;33m\u001b[0m\u001b[0m\n\u001b[0;32m     62\u001b[0m         \u001b[1;32mif\u001b[0m \u001b[0mdata_util\u001b[0m\u001b[1;33m.\u001b[0m\u001b[0m_is_using_pandas\u001b[0m\u001b[1;33m(\u001b[0m\u001b[0mY\u001b[0m\u001b[1;33m,\u001b[0m \u001b[1;32mNone\u001b[0m\u001b[1;33m)\u001b[0m\u001b[1;33m:\u001b[0m\u001b[1;33m\u001b[0m\u001b[1;33m\u001b[0m\u001b[0m\n\u001b[1;32m---> 63\u001b[1;33m             result = dmatrices(formula, Y, depth, return_type='dataframe',\n\u001b[0m\u001b[0;32m     64\u001b[0m                                NA_action=na_action)\n\u001b[0;32m     65\u001b[0m         \u001b[1;32melse\u001b[0m\u001b[1;33m:\u001b[0m\u001b[1;33m\u001b[0m\u001b[1;33m\u001b[0m\u001b[0m\n",
      "\u001b[1;32m~\\anaconda3\\lib\\site-packages\\patsy\\highlevel.py\u001b[0m in \u001b[0;36mdmatrices\u001b[1;34m(formula_like, data, eval_env, NA_action, return_type)\u001b[0m\n\u001b[0;32m    307\u001b[0m     \"\"\"\n\u001b[0;32m    308\u001b[0m     \u001b[0meval_env\u001b[0m \u001b[1;33m=\u001b[0m \u001b[0mEvalEnvironment\u001b[0m\u001b[1;33m.\u001b[0m\u001b[0mcapture\u001b[0m\u001b[1;33m(\u001b[0m\u001b[0meval_env\u001b[0m\u001b[1;33m,\u001b[0m \u001b[0mreference\u001b[0m\u001b[1;33m=\u001b[0m\u001b[1;36m1\u001b[0m\u001b[1;33m)\u001b[0m\u001b[1;33m\u001b[0m\u001b[1;33m\u001b[0m\u001b[0m\n\u001b[1;32m--> 309\u001b[1;33m     (lhs, rhs) = _do_highlevel_design(formula_like, data, eval_env,\n\u001b[0m\u001b[0;32m    310\u001b[0m                                       NA_action, return_type)\n\u001b[0;32m    311\u001b[0m     \u001b[1;32mif\u001b[0m \u001b[0mlhs\u001b[0m\u001b[1;33m.\u001b[0m\u001b[0mshape\u001b[0m\u001b[1;33m[\u001b[0m\u001b[1;36m1\u001b[0m\u001b[1;33m]\u001b[0m \u001b[1;33m==\u001b[0m \u001b[1;36m0\u001b[0m\u001b[1;33m:\u001b[0m\u001b[1;33m\u001b[0m\u001b[1;33m\u001b[0m\u001b[0m\n",
      "\u001b[1;32m~\\anaconda3\\lib\\site-packages\\patsy\\highlevel.py\u001b[0m in \u001b[0;36m_do_highlevel_design\u001b[1;34m(formula_like, data, eval_env, NA_action, return_type)\u001b[0m\n\u001b[0;32m    172\u001b[0m         \u001b[1;32mif\u001b[0m \u001b[0misinstance\u001b[0m\u001b[1;33m(\u001b[0m\u001b[0mformula_like\u001b[0m\u001b[1;33m,\u001b[0m \u001b[0mtuple\u001b[0m\u001b[1;33m)\u001b[0m\u001b[1;33m:\u001b[0m\u001b[1;33m\u001b[0m\u001b[1;33m\u001b[0m\u001b[0m\n\u001b[0;32m    173\u001b[0m             \u001b[1;32mif\u001b[0m \u001b[0mlen\u001b[0m\u001b[1;33m(\u001b[0m\u001b[0mformula_like\u001b[0m\u001b[1;33m)\u001b[0m \u001b[1;33m!=\u001b[0m \u001b[1;36m2\u001b[0m\u001b[1;33m:\u001b[0m\u001b[1;33m\u001b[0m\u001b[1;33m\u001b[0m\u001b[0m\n\u001b[1;32m--> 174\u001b[1;33m                 raise PatsyError(\"don't know what to do with a length %s \"\n\u001b[0m\u001b[0;32m    175\u001b[0m                                     \u001b[1;34m\"matrices tuple\"\u001b[0m\u001b[1;33m\u001b[0m\u001b[1;33m\u001b[0m\u001b[0m\n\u001b[0;32m    176\u001b[0m                                     % (len(formula_like),))\n",
      "\u001b[1;31mPatsyError\u001b[0m: don't know what to do with a length 7 matrices tuple"
     ]
    }
   ],
   "source": [
    "## Log transformation\n",
    "\n",
    "train_data['selling_price_log'] = np.log(train_data['selling_price'])\n",
    "train_data['out_treated_age_log'] = np.log(train_data['out_treated_age'])\n",
    "train_data['out_treated_km_driven_log'] = np.log(train_data['out_treated_km_driven'])\n",
    "\n",
    "test_data['selling_price_log'] = np.log(test_data['selling_price'])\n",
    "test_data['out_treated_age_log'] = np.log(test_data['out_treated_age'])\n",
    "test_data['out_treated_km_driven_log'] = np.log(test_data['out_treated_km_driven'])\n",
    "\n",
    "log_y_train = train_data['selling_price_log']\n",
    "\n",
    "\n",
    "formula = 'out_treated_age','out_treated_km_driven','Aspirational_Value_Premium','fuel_Diesel',\\\n",
    "                                 'fuel_LPG','fuel_Petrol','transmission_Manual'\n",
    "\n",
    "X_train = sm.add_constant(X_train)\n",
    "model3 = smf.ols(formula,data = train_data)\n",
    "reg_model3 = model3.fit()\n",
    "print(reg_model3.summary())\n",
    "\n"
   ]
  },
  {
   "cell_type": "code",
   "execution_count": null,
   "id": "79688147",
   "metadata": {},
   "outputs": [],
   "source": []
  }
 ],
 "metadata": {
  "kernelspec": {
   "display_name": "Python 3 (ipykernel)",
   "language": "python",
   "name": "python3"
  },
  "language_info": {
   "codemirror_mode": {
    "name": "ipython",
    "version": 3
   },
   "file_extension": ".py",
   "mimetype": "text/x-python",
   "name": "python",
   "nbconvert_exporter": "python",
   "pygments_lexer": "ipython3",
   "version": "3.9.13"
  }
 },
 "nbformat": 4,
 "nbformat_minor": 5
}
