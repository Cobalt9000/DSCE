{
 "cells": [
  {
   "cell_type": "code",
   "execution_count": 1,
   "metadata": {},
   "outputs": [],
   "source": [
    "import pandas as pd\n",
    "import numpy as np\n",
    "from sklearn.model_selection import train_test_split\n",
    "from sklearn.preprocessing import MinMaxScaler\n",
    "import statsmodels\n",
    "from sklearn.metrics import classification_report\n",
    "import matplotlib.pyplot as plt\n",
    "from sklearn.metrics import roc_curve\n",
    "from sklearn.metrics import confusion_matrix\n",
    "import statsmodels.api as sm"
   ]
  },
  {
   "cell_type": "code",
   "execution_count": 2,
   "metadata": {},
   "outputs": [
    {
     "name": "stdout",
     "output_type": "stream",
     "text": [
      "<class 'pandas.core.frame.DataFrame'>\n",
      "RangeIndex: 9261 entries, 0 to 9260\n",
      "Data columns (total 7 columns):\n",
      " #   Column          Non-Null Count  Dtype  \n",
      "---  ------          --------------  -----  \n",
      " 0   job             9261 non-null   object \n",
      " 1   marital         9261 non-null   object \n",
      " 2   education       9261 non-null   object \n",
      " 3   loan            9261 non-null   object \n",
      " 4   age             9261 non-null   int64  \n",
      " 5   cons_price_idx  9257 non-null   float64\n",
      " 6   subscribe       9261 non-null   int64  \n",
      "dtypes: float64(1), int64(2), object(4)\n",
      "memory usage: 506.6+ KB\n"
     ]
    }
   ],
   "source": [
    "data = pd.read_csv('Logistic_Regression_data.csv')\n",
    "data.info()"
   ]
  },
  {
   "cell_type": "markdown",
   "metadata": {},
   "source": [
    "EDA"
   ]
  },
  {
   "cell_type": "code",
   "execution_count": 3,
   "metadata": {},
   "outputs": [
    {
     "data": {
      "image/png": "[encoded data removed]",
      "text/plain": [
       "<Figure size 432x288 with 1 Axes>"
      ]
     },
     "metadata": {
      "needs_background": "light"
     },
     "output_type": "display_data"
    }
   ],
   "source": [
    "## Outlier check in age variables\n",
    "# Box Plot\n",
    "plt.boxplot(data['age'])\n",
    "plt.show()\n"
   ]
  },
  {
   "cell_type": "code",
   "execution_count": 4,
   "metadata": {},
   "outputs": [
    {
     "name": "stdout",
     "output_type": "stream",
     "text": [
      "outlier in dataset is [86, 78, 81, 88, 83, 78, 77, 78, 87, 77, 83, 86, 85, 85, 77, 86, 82, 80, 80, 77, 83, 85, 80, 79, 84, 83, 86, 78, 77, 78, 92, 78, 80, 82, 88, 81, 88, 82, 88, 83, 78, 82, 86, 77, 80, 83, 77, 78, 81, 78, 80, 81, 80, 89, 83, 80, 80, 77, 80, 84, 98, 85, 98, 85, 85, 78, 81, 82, 78, 77, 82, 80, 82, 79, 80, 81, 78, 81, 80, 79, 88, 92, 88, 88, 82, 77, 85, 83, 80, 81, 82, 83, 77, 82, 80, 79, 79, 85, 85, 89, 80, 77, 79, 78, 80, 80, 88, 82, 81, 82, 84, 77, 78, 88, 88, 79, 80, 80, 92]\n",
      "minimum of the outlier list 77\n",
      "Median of the column excluding outliers--> 37.0\n"
     ]
    }
   ],
   "source": [
    "## Outlier treatment with Z Score\n",
    "threshold = 3\n",
    "outlier = []\n",
    "for i in data['age']:\n",
    "    z = (i-data['age'].mean())/data['age'].std()\n",
    "    if z > threshold:\n",
    "        outlier.append(i)\n",
    "print('outlier in dataset is', outlier)\n",
    "print('minimum of the outlier list', min(outlier))\n",
    "## calculate the median for the column excluding the outlier\n",
    "med = data.loc[data['age']<= min(outlier), 'age'].median()\n",
    "print('Median of the column excluding outliers-->',med)\n",
    "f = lambda x: med if x>= min(outlier) else x\n",
    "data['out_treated_age'] = data['age'].map(f)\n",
    "max(data['out_treated_age'])\n",
    "data.drop(['age'], axis=1,inplace = True)"
   ]
  },
  {
   "cell_type": "code",
   "execution_count": 5,
   "metadata": {},
   "outputs": [
    {
     "data": {
      "text/plain": [
       "job                0\n",
       "marital            0\n",
       "education          0\n",
       "loan               0\n",
       "cons_price_idx     4\n",
       "subscribe          0\n",
       "out_treated_age    0\n",
       "dtype: int64"
      ]
     },
     "execution_count": 5,
     "metadata": {},
     "output_type": "execute_result"
    }
   ],
   "source": [
    "## Check for missing values\n",
    "data.isna().sum()"
   ]
  },
  {
   "cell_type": "code",
   "execution_count": 6,
   "metadata": {},
   "outputs": [
    {
     "name": "stdout",
     "output_type": "stream",
     "text": [
      "<class 'pandas.core.frame.DataFrame'>\n",
      "Int64Index: 9257 entries, 0 to 9260\n",
      "Data columns (total 7 columns):\n",
      " #   Column           Non-Null Count  Dtype  \n",
      "---  ------           --------------  -----  \n",
      " 0   job              9257 non-null   object \n",
      " 1   marital          9257 non-null   object \n",
      " 2   education        9257 non-null   object \n",
      " 3   loan             9257 non-null   object \n",
      " 4   cons_price_idx   9257 non-null   float64\n",
      " 5   subscribe        9257 non-null   int64  \n",
      " 6   out_treated_age  9257 non-null   float64\n",
      "dtypes: float64(2), int64(1), object(4)\n",
      "memory usage: 578.6+ KB\n"
     ]
    },
    {
     "data": {
      "image/png": "[encoded data removed]",
      "text/plain": [
       "<Figure size 432x288 with 1 Axes>"
      ]
     },
     "metadata": {
      "needs_background": "light"
     },
     "output_type": "display_data"
    }
   ],
   "source": [
    "## We can see that there are missing values in cons_price_idx column\n",
    "## Box plot is not possible with missing values, so lets subset the data except missing value, treat outliers if any,\n",
    "## Then come back and treat the missing value\n",
    "filtered_data = data.dropna()\n",
    "filtered_data.info()\n",
    "plt.boxplot(filtered_data['cons_price_idx'])\n",
    "plt.show()\n",
    "## There is no outlier, so we can continue treating missing values"
   ]
  },
  {
   "cell_type": "code",
   "execution_count": 7,
   "metadata": {},
   "outputs": [
    {
     "name": "stdout",
     "output_type": "stream",
     "text": [
      "<class 'pandas.core.frame.DataFrame'>\n",
      "RangeIndex: 9261 entries, 0 to 9260\n",
      "Data columns (total 7 columns):\n",
      " #   Column           Non-Null Count  Dtype  \n",
      "---  ------           --------------  -----  \n",
      " 0   job              9261 non-null   object \n",
      " 1   marital          9261 non-null   object \n",
      " 2   education        9261 non-null   object \n",
      " 3   loan             9261 non-null   object \n",
      " 4   cons_price_idx   9261 non-null   float64\n",
      " 5   subscribe        9261 non-null   int64  \n",
      " 6   out_treated_age  9261 non-null   float64\n",
      "dtypes: float64(2), int64(1), object(4)\n",
      "memory usage: 506.6+ KB\n"
     ]
    }
   ],
   "source": [
    "## fill missing values with mean\n",
    "data['cons_price_idx'] = data['cons_price_idx'].fillna(data['cons_price_idx'].mean())\n",
    "data.info()"
   ]
  },
  {
   "cell_type": "code",
   "execution_count": 8,
   "metadata": {},
   "outputs": [],
   "source": [
    "scaler = MinMaxScaler()\n",
    "numerical = data.select_dtypes(exclude=['object'])\n",
    "data[numerical.columns] = scaler.fit_transform(numerical)\n",
    "data = pd.get_dummies(data,drop_first = True)"
   ]
  },
  {
   "cell_type": "code",
   "execution_count": 9,
   "metadata": {},
   "outputs": [],
   "source": [
    "y = data['subscribe']\n",
    "X = data.drop(['subscribe'], axis=1)\n",
    "X_train, X_test, y_train, y_test = train_test_split(X, y, test_size = 0.2, random_state = 0)\n",
    "train_data = pd.concat([X_train,y_train], axis = 1)\n",
    "test_data = pd.concat([X_test,y_test], axis = 1)"
   ]
  },
  {
   "cell_type": "code",
   "execution_count": 10,
   "metadata": {},
   "outputs": [
    {
     "data": {
      "text/html": [
       "<div>\n",
       "<style scoped>\n",
       "    .dataframe tbody tr th:only-of-type {\n",
       "        vertical-align: middle;\n",
       "    }\n",
       "\n",
       "    .dataframe tbody tr th {\n",
       "        vertical-align: top;\n",
       "    }\n",
       "\n",
       "    .dataframe thead th {\n",
       "        text-align: right;\n",
       "    }\n",
       "</style>\n",
       "<table border=\"1\" class=\"dataframe\">\n",
       "  <thead>\n",
       "    <tr style=\"text-align: right;\">\n",
       "      <th></th>\n",
       "      <th>cons_price_idx</th>\n",
       "      <th>out_treated_age</th>\n",
       "      <th>job_retired</th>\n",
       "      <th>job_self_employed</th>\n",
       "      <th>job_unemployed</th>\n",
       "      <th>job_white_collar</th>\n",
       "      <th>marital_married</th>\n",
       "      <th>marital_single</th>\n",
       "      <th>education_school</th>\n",
       "      <th>loan_yes</th>\n",
       "      <th>subscribe</th>\n",
       "    </tr>\n",
       "  </thead>\n",
       "  <tbody>\n",
       "    <tr>\n",
       "      <th>5951</th>\n",
       "      <td>0.174591</td>\n",
       "      <td>0.203390</td>\n",
       "      <td>0</td>\n",
       "      <td>0</td>\n",
       "      <td>0</td>\n",
       "      <td>0</td>\n",
       "      <td>0</td>\n",
       "      <td>1</td>\n",
       "      <td>0</td>\n",
       "      <td>1</td>\n",
       "      <td>1.0</td>\n",
       "    </tr>\n",
       "    <tr>\n",
       "      <th>1624</th>\n",
       "      <td>0.484412</td>\n",
       "      <td>0.372881</td>\n",
       "      <td>0</td>\n",
       "      <td>0</td>\n",
       "      <td>0</td>\n",
       "      <td>1</td>\n",
       "      <td>1</td>\n",
       "      <td>0</td>\n",
       "      <td>0</td>\n",
       "      <td>0</td>\n",
       "      <td>0.0</td>\n",
       "    </tr>\n",
       "    <tr>\n",
       "      <th>6107</th>\n",
       "      <td>0.089634</td>\n",
       "      <td>0.745763</td>\n",
       "      <td>0</td>\n",
       "      <td>0</td>\n",
       "      <td>0</td>\n",
       "      <td>1</td>\n",
       "      <td>1</td>\n",
       "      <td>0</td>\n",
       "      <td>0</td>\n",
       "      <td>0</td>\n",
       "      <td>1.0</td>\n",
       "    </tr>\n",
       "    <tr>\n",
       "      <th>8091</th>\n",
       "      <td>0.089634</td>\n",
       "      <td>0.423729</td>\n",
       "      <td>0</td>\n",
       "      <td>0</td>\n",
       "      <td>0</td>\n",
       "      <td>0</td>\n",
       "      <td>1</td>\n",
       "      <td>0</td>\n",
       "      <td>0</td>\n",
       "      <td>0</td>\n",
       "      <td>1.0</td>\n",
       "    </tr>\n",
       "    <tr>\n",
       "      <th>2563</th>\n",
       "      <td>0.698753</td>\n",
       "      <td>0.237288</td>\n",
       "      <td>0</td>\n",
       "      <td>0</td>\n",
       "      <td>0</td>\n",
       "      <td>1</td>\n",
       "      <td>1</td>\n",
       "      <td>0</td>\n",
       "      <td>0</td>\n",
       "      <td>0</td>\n",
       "      <td>0.0</td>\n",
       "    </tr>\n",
       "    <tr>\n",
       "      <th>...</th>\n",
       "      <td>...</td>\n",
       "      <td>...</td>\n",
       "      <td>...</td>\n",
       "      <td>...</td>\n",
       "      <td>...</td>\n",
       "      <td>...</td>\n",
       "      <td>...</td>\n",
       "      <td>...</td>\n",
       "      <td>...</td>\n",
       "      <td>...</td>\n",
       "      <td>...</td>\n",
       "    </tr>\n",
       "    <tr>\n",
       "      <th>7891</th>\n",
       "      <td>0.603274</td>\n",
       "      <td>0.338983</td>\n",
       "      <td>0</td>\n",
       "      <td>0</td>\n",
       "      <td>0</td>\n",
       "      <td>0</td>\n",
       "      <td>1</td>\n",
       "      <td>0</td>\n",
       "      <td>1</td>\n",
       "      <td>0</td>\n",
       "      <td>1.0</td>\n",
       "    </tr>\n",
       "    <tr>\n",
       "      <th>9225</th>\n",
       "      <td>0.269680</td>\n",
       "      <td>0.322034</td>\n",
       "      <td>0</td>\n",
       "      <td>0</td>\n",
       "      <td>0</td>\n",
       "      <td>1</td>\n",
       "      <td>0</td>\n",
       "      <td>0</td>\n",
       "      <td>1</td>\n",
       "      <td>0</td>\n",
       "      <td>1.0</td>\n",
       "    </tr>\n",
       "    <tr>\n",
       "      <th>4859</th>\n",
       "      <td>0.652767</td>\n",
       "      <td>0.694915</td>\n",
       "      <td>0</td>\n",
       "      <td>0</td>\n",
       "      <td>0</td>\n",
       "      <td>1</td>\n",
       "      <td>1</td>\n",
       "      <td>0</td>\n",
       "      <td>0</td>\n",
       "      <td>0</td>\n",
       "      <td>1.0</td>\n",
       "    </tr>\n",
       "    <tr>\n",
       "      <th>3264</th>\n",
       "      <td>0.269680</td>\n",
       "      <td>0.389831</td>\n",
       "      <td>0</td>\n",
       "      <td>0</td>\n",
       "      <td>0</td>\n",
       "      <td>0</td>\n",
       "      <td>1</td>\n",
       "      <td>0</td>\n",
       "      <td>0</td>\n",
       "      <td>0</td>\n",
       "      <td>1.0</td>\n",
       "    </tr>\n",
       "    <tr>\n",
       "      <th>2732</th>\n",
       "      <td>0.698753</td>\n",
       "      <td>0.508475</td>\n",
       "      <td>0</td>\n",
       "      <td>0</td>\n",
       "      <td>0</td>\n",
       "      <td>0</td>\n",
       "      <td>1</td>\n",
       "      <td>0</td>\n",
       "      <td>1</td>\n",
       "      <td>0</td>\n",
       "      <td>0.0</td>\n",
       "    </tr>\n",
       "  </tbody>\n",
       "</table>\n",
       "<p>7408 rows × 11 columns</p>\n",
       "</div>"
      ],
      "text/plain": [
       "      cons_price_idx  out_treated_age  job_retired  job_self_employed  \\\n",
       "5951        0.174591         0.203390            0                  0   \n",
       "1624        0.484412         0.372881            0                  0   \n",
       "6107        0.089634         0.745763            0                  0   \n",
       "8091        0.089634         0.423729            0                  0   \n",
       "2563        0.698753         0.237288            0                  0   \n",
       "...              ...              ...          ...                ...   \n",
       "7891        0.603274         0.338983            0                  0   \n",
       "9225        0.269680         0.322034            0                  0   \n",
       "4859        0.652767         0.694915            0                  0   \n",
       "3264        0.269680         0.389831            0                  0   \n",
       "2732        0.698753         0.508475            0                  0   \n",
       "\n",
       "      job_unemployed  job_white_collar  marital_married  marital_single  \\\n",
       "5951               0                 0                0               1   \n",
       "1624               0                 1                1               0   \n",
       "6107               0                 1                1               0   \n",
       "8091               0                 0                1               0   \n",
       "2563               0                 1                1               0   \n",
       "...              ...               ...              ...             ...   \n",
       "7891               0                 0                1               0   \n",
       "9225               0                 1                0               0   \n",
       "4859               0                 1                1               0   \n",
       "3264               0                 0                1               0   \n",
       "2732               0                 0                1               0   \n",
       "\n",
       "      education_school  loan_yes  subscribe  \n",
       "5951                 0         1        1.0  \n",
       "1624                 0         0        0.0  \n",
       "6107                 0         0        1.0  \n",
       "8091                 0         0        1.0  \n",
       "2563                 0         0        0.0  \n",
       "...                ...       ...        ...  \n",
       "7891                 1         0        1.0  \n",
       "9225                 1         0        1.0  \n",
       "4859                 0         0        1.0  \n",
       "3264                 0         0        1.0  \n",
       "2732                 1         0        0.0  \n",
       "\n",
       "[7408 rows x 11 columns]"
      ]
     },
     "execution_count": 10,
     "metadata": {},
     "output_type": "execute_result"
    }
   ],
   "source": [
    "train_data"
   ]
  },
  {
   "cell_type": "code",
   "execution_count": 12,
   "metadata": {},
   "outputs": [
    {
     "name": "stdout",
     "output_type": "stream",
     "text": [
      "Optimization terminated successfully.\n",
      "         Current function value: 0.487461\n",
      "         Iterations 6\n"
     ]
    },
    {
     "data": {
      "text/html": [
       "<table class=\"simpletable\">\n",
       "<caption>Logit Regression Results</caption>\n",
       "<tr>\n",
       "  <th>Dep. Variable:</th>       <td>subscribe</td>    <th>  No. Observations:  </th>  <td>  7408</td> \n",
       "</tr>\n",
       "<tr>\n",
       "  <th>Model:</th>                 <td>Logit</td>      <th>  Df Residuals:      </th>  <td>  7397</td> \n",
       "</tr>\n",
       "<tr>\n",
       "  <th>Method:</th>                 <td>MLE</td>       <th>  Df Model:          </th>  <td>    10</td> \n",
       "</tr>\n",
       "<tr>\n",
       "  <th>Date:</th>            <td>Fri, 19 Aug 2022</td> <th>  Pseudo R-squ.:     </th>  <td>0.2967</td> \n",
       "</tr>\n",
       "<tr>\n",
       "  <th>Time:</th>                <td>00:15:53</td>     <th>  Log-Likelihood:    </th> <td> -3611.1</td>\n",
       "</tr>\n",
       "<tr>\n",
       "  <th>converged:</th>             <td>True</td>       <th>  LL-Null:           </th> <td> -5134.7</td>\n",
       "</tr>\n",
       "<tr>\n",
       "  <th>Covariance Type:</th>     <td>nonrobust</td>    <th>  LLR p-value:       </th>  <td> 0.000</td> \n",
       "</tr>\n",
       "</table>\n",
       "<table class=\"simpletable\">\n",
       "<tr>\n",
       "          <td></td>             <th>coef</th>     <th>std err</th>      <th>z</th>      <th>P>|z|</th>  <th>[0.025</th>    <th>0.975]</th>  \n",
       "</tr>\n",
       "<tr>\n",
       "  <th>Intercept</th>         <td>    2.8490</td> <td>    0.149</td> <td>   19.131</td> <td> 0.000</td> <td>    2.557</td> <td>    3.141</td>\n",
       "</tr>\n",
       "<tr>\n",
       "  <th>out_treated_age</th>   <td>   -0.3609</td> <td>    0.197</td> <td>   -1.833</td> <td> 0.067</td> <td>   -0.747</td> <td>    0.025</td>\n",
       "</tr>\n",
       "<tr>\n",
       "  <th>cons_price_idx</th>    <td>   -6.1940</td> <td>    0.148</td> <td>  -41.763</td> <td> 0.000</td> <td>   -6.485</td> <td>   -5.903</td>\n",
       "</tr>\n",
       "<tr>\n",
       "  <th>job_retired</th>       <td>    2.0631</td> <td>    0.153</td> <td>   13.492</td> <td> 0.000</td> <td>    1.763</td> <td>    2.363</td>\n",
       "</tr>\n",
       "<tr>\n",
       "  <th>job_self_employed</th> <td>   -0.0955</td> <td>    0.121</td> <td>   -0.791</td> <td> 0.429</td> <td>   -0.332</td> <td>    0.141</td>\n",
       "</tr>\n",
       "<tr>\n",
       "  <th>job_unemployed</th>    <td>    1.5004</td> <td>    0.132</td> <td>   11.358</td> <td> 0.000</td> <td>    1.242</td> <td>    1.759</td>\n",
       "</tr>\n",
       "<tr>\n",
       "  <th>job_white_collar</th>  <td>    0.3149</td> <td>    0.065</td> <td>    4.877</td> <td> 0.000</td> <td>    0.188</td> <td>    0.441</td>\n",
       "</tr>\n",
       "<tr>\n",
       "  <th>marital_married</th>   <td>   -0.0950</td> <td>    0.096</td> <td>   -0.988</td> <td> 0.323</td> <td>   -0.283</td> <td>    0.093</td>\n",
       "</tr>\n",
       "<tr>\n",
       "  <th>marital_single</th>    <td>    0.3632</td> <td>    0.108</td> <td>    3.363</td> <td> 0.001</td> <td>    0.152</td> <td>    0.575</td>\n",
       "</tr>\n",
       "<tr>\n",
       "  <th>loan_yes</th>          <td>    0.0129</td> <td>    0.083</td> <td>    0.156</td> <td> 0.876</td> <td>   -0.149</td> <td>    0.175</td>\n",
       "</tr>\n",
       "<tr>\n",
       "  <th>education_school</th>  <td>   -0.0665</td> <td>    0.060</td> <td>   -1.101</td> <td> 0.271</td> <td>   -0.185</td> <td>    0.052</td>\n",
       "</tr>\n",
       "</table>"
      ],
      "text/plain": [
       "<class 'statsmodels.iolib.summary.Summary'>\n",
       "\"\"\"\n",
       "                           Logit Regression Results                           \n",
       "==============================================================================\n",
       "Dep. Variable:              subscribe   No. Observations:                 7408\n",
       "Model:                          Logit   Df Residuals:                     7397\n",
       "Method:                           MLE   Df Model:                           10\n",
       "Date:                Fri, 19 Aug 2022   Pseudo R-squ.:                  0.2967\n",
       "Time:                        00:15:53   Log-Likelihood:                -3611.1\n",
       "converged:                       True   LL-Null:                       -5134.7\n",
       "Covariance Type:            nonrobust   LLR p-value:                     0.000\n",
       "=====================================================================================\n",
       "                        coef    std err          z      P>|z|      [0.025      0.975]\n",
       "-------------------------------------------------------------------------------------\n",
       "Intercept             2.8490      0.149     19.131      0.000       2.557       3.141\n",
       "out_treated_age      -0.3609      0.197     -1.833      0.067      -0.747       0.025\n",
       "cons_price_idx       -6.1940      0.148    -41.763      0.000      -6.485      -5.903\n",
       "job_retired           2.0631      0.153     13.492      0.000       1.763       2.363\n",
       "job_self_employed    -0.0955      0.121     -0.791      0.429      -0.332       0.141\n",
       "job_unemployed        1.5004      0.132     11.358      0.000       1.242       1.759\n",
       "job_white_collar      0.3149      0.065      4.877      0.000       0.188       0.441\n",
       "marital_married      -0.0950      0.096     -0.988      0.323      -0.283       0.093\n",
       "marital_single        0.3632      0.108      3.363      0.001       0.152       0.575\n",
       "loan_yes              0.0129      0.083      0.156      0.876      -0.149       0.175\n",
       "education_school     -0.0665      0.060     -1.101      0.271      -0.185       0.052\n",
       "=====================================================================================\n",
       "\"\"\""
      ]
     },
     "execution_count": 12,
     "metadata": {},
     "output_type": "execute_result"
    }
   ],
   "source": [
    "import statsmodels.api as sm\n",
    "formula = 'subscribe ~ out_treated_age + cons_price_idx + job_retired + job_self_employed + job_unemployed + job_white_collar + \\\n",
    "            marital_married + marital_single +  loan_yes +  education_school '\n",
    "log_reg = statsmodels.formula.api.logit(formula,data = train_data).fit()\n",
    "log_reg.summary()"
   ]
  },
  {
   "cell_type": "code",
   "execution_count": 13,
   "metadata": {},
   "outputs": [
    {
     "name": "stdout",
     "output_type": "stream",
     "text": [
      "Optimization terminated successfully.\n",
      "         Current function value: 0.487461\n",
      "         Iterations 6\n"
     ]
    },
    {
     "data": {
      "text/html": [
       "<table class=\"simpletable\">\n",
       "<caption>Logit Regression Results</caption>\n",
       "<tr>\n",
       "  <th>Dep. Variable:</th>       <td>subscribe</td>    <th>  No. Observations:  </th>  <td>  7408</td> \n",
       "</tr>\n",
       "<tr>\n",
       "  <th>Model:</th>                 <td>Logit</td>      <th>  Df Residuals:      </th>  <td>  7397</td> \n",
       "</tr>\n",
       "<tr>\n",
       "  <th>Method:</th>                 <td>MLE</td>       <th>  Df Model:          </th>  <td>    10</td> \n",
       "</tr>\n",
       "<tr>\n",
       "  <th>Date:</th>            <td>Fri, 19 Aug 2022</td> <th>  Pseudo R-squ.:     </th>  <td>0.2967</td> \n",
       "</tr>\n",
       "<tr>\n",
       "  <th>Time:</th>                <td>00:16:01</td>     <th>  Log-Likelihood:    </th> <td> -3611.1</td>\n",
       "</tr>\n",
       "<tr>\n",
       "  <th>converged:</th>             <td>True</td>       <th>  LL-Null:           </th> <td> -5134.7</td>\n",
       "</tr>\n",
       "<tr>\n",
       "  <th>Covariance Type:</th>     <td>nonrobust</td>    <th>  LLR p-value:       </th>  <td> 0.000</td> \n",
       "</tr>\n",
       "</table>\n",
       "<table class=\"simpletable\">\n",
       "<tr>\n",
       "          <td></td>             <th>coef</th>     <th>std err</th>      <th>z</th>      <th>P>|z|</th>  <th>[0.025</th>    <th>0.975]</th>  \n",
       "</tr>\n",
       "<tr>\n",
       "  <th>Intercept</th>         <td>    2.8490</td> <td>    0.149</td> <td>   19.131</td> <td> 0.000</td> <td>    2.557</td> <td>    3.141</td>\n",
       "</tr>\n",
       "<tr>\n",
       "  <th>out_treated_age</th>   <td>   -0.3609</td> <td>    0.197</td> <td>   -1.833</td> <td> 0.067</td> <td>   -0.747</td> <td>    0.025</td>\n",
       "</tr>\n",
       "<tr>\n",
       "  <th>cons_price_idx</th>    <td>   -6.1940</td> <td>    0.148</td> <td>  -41.763</td> <td> 0.000</td> <td>   -6.485</td> <td>   -5.903</td>\n",
       "</tr>\n",
       "<tr>\n",
       "  <th>job_retired</th>       <td>    2.0631</td> <td>    0.153</td> <td>   13.492</td> <td> 0.000</td> <td>    1.763</td> <td>    2.363</td>\n",
       "</tr>\n",
       "<tr>\n",
       "  <th>job_self_employed</th> <td>   -0.0955</td> <td>    0.121</td> <td>   -0.791</td> <td> 0.429</td> <td>   -0.332</td> <td>    0.141</td>\n",
       "</tr>\n",
       "<tr>\n",
       "  <th>job_unemployed</th>    <td>    1.5004</td> <td>    0.132</td> <td>   11.358</td> <td> 0.000</td> <td>    1.242</td> <td>    1.759</td>\n",
       "</tr>\n",
       "<tr>\n",
       "  <th>job_white_collar</th>  <td>    0.3149</td> <td>    0.065</td> <td>    4.877</td> <td> 0.000</td> <td>    0.188</td> <td>    0.441</td>\n",
       "</tr>\n",
       "<tr>\n",
       "  <th>marital_married</th>   <td>   -0.0950</td> <td>    0.096</td> <td>   -0.988</td> <td> 0.323</td> <td>   -0.283</td> <td>    0.093</td>\n",
       "</tr>\n",
       "<tr>\n",
       "  <th>marital_single</th>    <td>    0.3632</td> <td>    0.108</td> <td>    3.363</td> <td> 0.001</td> <td>    0.152</td> <td>    0.575</td>\n",
       "</tr>\n",
       "<tr>\n",
       "  <th>loan_yes</th>          <td>    0.0129</td> <td>    0.083</td> <td>    0.156</td> <td> 0.876</td> <td>   -0.149</td> <td>    0.175</td>\n",
       "</tr>\n",
       "<tr>\n",
       "  <th>education_school</th>  <td>   -0.0665</td> <td>    0.060</td> <td>   -1.101</td> <td> 0.271</td> <td>   -0.185</td> <td>    0.052</td>\n",
       "</tr>\n",
       "</table>"
      ],
      "text/plain": [
       "<class 'statsmodels.iolib.summary.Summary'>\n",
       "\"\"\"\n",
       "                           Logit Regression Results                           \n",
       "==============================================================================\n",
       "Dep. Variable:              subscribe   No. Observations:                 7408\n",
       "Model:                          Logit   Df Residuals:                     7397\n",
       "Method:                           MLE   Df Model:                           10\n",
       "Date:                Fri, 19 Aug 2022   Pseudo R-squ.:                  0.2967\n",
       "Time:                        00:16:01   Log-Likelihood:                -3611.1\n",
       "converged:                       True   LL-Null:                       -5134.7\n",
       "Covariance Type:            nonrobust   LLR p-value:                     0.000\n",
       "=====================================================================================\n",
       "                        coef    std err          z      P>|z|      [0.025      0.975]\n",
       "-------------------------------------------------------------------------------------\n",
       "Intercept             2.8490      0.149     19.131      0.000       2.557       3.141\n",
       "out_treated_age      -0.3609      0.197     -1.833      0.067      -0.747       0.025\n",
       "cons_price_idx       -6.1940      0.148    -41.763      0.000      -6.485      -5.903\n",
       "job_retired           2.0631      0.153     13.492      0.000       1.763       2.363\n",
       "job_self_employed    -0.0955      0.121     -0.791      0.429      -0.332       0.141\n",
       "job_unemployed        1.5004      0.132     11.358      0.000       1.242       1.759\n",
       "job_white_collar      0.3149      0.065      4.877      0.000       0.188       0.441\n",
       "marital_married      -0.0950      0.096     -0.988      0.323      -0.283       0.093\n",
       "marital_single        0.3632      0.108      3.363      0.001       0.152       0.575\n",
       "loan_yes              0.0129      0.083      0.156      0.876      -0.149       0.175\n",
       "education_school     -0.0665      0.060     -1.101      0.271      -0.185       0.052\n",
       "=====================================================================================\n",
       "\"\"\""
      ]
     },
     "execution_count": 13,
     "metadata": {},
     "output_type": "execute_result"
    }
   ],
   "source": [
    "formula = 'subscribe ~ out_treated_age + cons_price_idx + job_retired + job_self_employed + job_unemployed +\\\n",
    "            job_white_collar + marital_married + marital_single + loan_yes + education_school'\n",
    "log_reg = statsmodels.formula.api.logit(formula,data = train_data).fit()\n",
    "log_reg.summary()"
   ]
  },
  {
   "cell_type": "code",
   "execution_count": 14,
   "metadata": {},
   "outputs": [
    {
     "name": "stdout",
     "output_type": "stream",
     "text": [
      "Optimization terminated successfully.\n",
      "         Current function value: 0.487873\n",
      "         Iterations 6\n"
     ]
    },
    {
     "data": {
      "text/html": [
       "<table class=\"simpletable\">\n",
       "<caption>Logit Regression Results</caption>\n",
       "<tr>\n",
       "  <th>Dep. Variable:</th>       <td>subscribe</td>    <th>  No. Observations:  </th>  <td>  7408</td> \n",
       "</tr>\n",
       "<tr>\n",
       "  <th>Model:</th>                 <td>Logit</td>      <th>  Df Residuals:      </th>  <td>  7402</td> \n",
       "</tr>\n",
       "<tr>\n",
       "  <th>Method:</th>                 <td>MLE</td>       <th>  Df Model:          </th>  <td>     5</td> \n",
       "</tr>\n",
       "<tr>\n",
       "  <th>Date:</th>            <td>Fri, 19 Aug 2022</td> <th>  Pseudo R-squ.:     </th>  <td>0.2961</td> \n",
       "</tr>\n",
       "<tr>\n",
       "  <th>Time:</th>                <td>00:16:07</td>     <th>  Log-Likelihood:    </th> <td> -3614.2</td>\n",
       "</tr>\n",
       "<tr>\n",
       "  <th>converged:</th>             <td>True</td>       <th>  LL-Null:           </th> <td> -5134.7</td>\n",
       "</tr>\n",
       "<tr>\n",
       "  <th>Covariance Type:</th>     <td>nonrobust</td>    <th>  LLR p-value:       </th>  <td> 0.000</td> \n",
       "</tr>\n",
       "</table>\n",
       "<table class=\"simpletable\">\n",
       "<tr>\n",
       "          <td></td>            <th>coef</th>     <th>std err</th>      <th>z</th>      <th>P>|z|</th>  <th>[0.025</th>    <th>0.975]</th>  \n",
       "</tr>\n",
       "<tr>\n",
       "  <th>Intercept</th>        <td>    2.5790</td> <td>    0.083</td> <td>   30.947</td> <td> 0.000</td> <td>    2.416</td> <td>    2.742</td>\n",
       "</tr>\n",
       "<tr>\n",
       "  <th>cons_price_idx</th>   <td>   -6.1981</td> <td>    0.148</td> <td>  -41.854</td> <td> 0.000</td> <td>   -6.488</td> <td>   -5.908</td>\n",
       "</tr>\n",
       "<tr>\n",
       "  <th>job_retired</th>      <td>    1.9761</td> <td>    0.142</td> <td>   13.915</td> <td> 0.000</td> <td>    1.698</td> <td>    2.254</td>\n",
       "</tr>\n",
       "<tr>\n",
       "  <th>job_unemployed</th>   <td>    1.5160</td> <td>    0.130</td> <td>   11.668</td> <td> 0.000</td> <td>    1.261</td> <td>    1.771</td>\n",
       "</tr>\n",
       "<tr>\n",
       "  <th>job_white_collar</th> <td>    0.3314</td> <td>    0.062</td> <td>    5.365</td> <td> 0.000</td> <td>    0.210</td> <td>    0.452</td>\n",
       "</tr>\n",
       "<tr>\n",
       "  <th>marital_single</th>   <td>    0.5022</td> <td>    0.064</td> <td>    7.799</td> <td> 0.000</td> <td>    0.376</td> <td>    0.628</td>\n",
       "</tr>\n",
       "</table>"
      ],
      "text/plain": [
       "<class 'statsmodels.iolib.summary.Summary'>\n",
       "\"\"\"\n",
       "                           Logit Regression Results                           \n",
       "==============================================================================\n",
       "Dep. Variable:              subscribe   No. Observations:                 7408\n",
       "Model:                          Logit   Df Residuals:                     7402\n",
       "Method:                           MLE   Df Model:                            5\n",
       "Date:                Fri, 19 Aug 2022   Pseudo R-squ.:                  0.2961\n",
       "Time:                        00:16:07   Log-Likelihood:                -3614.2\n",
       "converged:                       True   LL-Null:                       -5134.7\n",
       "Covariance Type:            nonrobust   LLR p-value:                     0.000\n",
       "====================================================================================\n",
       "                       coef    std err          z      P>|z|      [0.025      0.975]\n",
       "------------------------------------------------------------------------------------\n",
       "Intercept            2.5790      0.083     30.947      0.000       2.416       2.742\n",
       "cons_price_idx      -6.1981      0.148    -41.854      0.000      -6.488      -5.908\n",
       "job_retired          1.9761      0.142     13.915      0.000       1.698       2.254\n",
       "job_unemployed       1.5160      0.130     11.668      0.000       1.261       1.771\n",
       "job_white_collar     0.3314      0.062      5.365      0.000       0.210       0.452\n",
       "marital_single       0.5022      0.064      7.799      0.000       0.376       0.628\n",
       "====================================================================================\n",
       "\"\"\""
      ]
     },
     "execution_count": 14,
     "metadata": {},
     "output_type": "execute_result"
    }
   ],
   "source": [
    "formula = 'subscribe ~ cons_price_idx + job_retired + job_unemployed + job_white_collar + marital_single'\n",
    "log_reg = statsmodels.formula.api.logit(formula,data = train_data).fit()\n",
    "log_reg.summary()"
   ]
  },
  {
   "cell_type": "code",
   "execution_count": null,
   "metadata": {},
   "outputs": [],
   "source": [
    "vif"
   ]
  },
  {
   "cell_type": "code",
   "execution_count": 15,
   "metadata": {},
   "outputs": [],
   "source": [
    "pred_test = log_reg.predict(X_test)\n",
    "test_data['test_pred_class'] = [1 if x >= 0.5 else 0 for x in pred_test]\n",
    "pred_train = log_reg.predict(X_train)\n",
    "train_data['train_pred_class'] = [1 if x >= 0.5 else 0 for x in pred_train]"
   ]
  },
  {
   "cell_type": "code",
   "execution_count": 293,
   "metadata": {},
   "outputs": [
    {
     "name": "stdout",
     "output_type": "stream",
     "text": [
      "Train Data Confusion Matrix--> \n",
      " [[2890  837]\n",
      " [ 745 2936]]\n",
      "Test Data Confusion Matrix--> \n",
      " [[721 180]\n",
      " [189 763]]\n"
     ]
    }
   ],
   "source": [
    "test_data_cm = confusion_matrix(test_data['subscribe'], test_data['test_pred_class'])\n",
    "train_data_cm = confusion_matrix(train_data['subscribe'], train_data['train_pred_class'])\n",
    "print('Train Data Confusion Matrix--> \\n',train_data_cm )\n",
    "print('Test Data Confusion Matrix--> \\n',test_data_cm )"
   ]
  },
  {
   "cell_type": "code",
   "execution_count": 294,
   "metadata": {},
   "outputs": [
    {
     "name": "stdout",
     "output_type": "stream",
     "text": [
      "Train Data Accuracy Report--> \n",
      "               precision    recall  f1-score   support\n",
      "\n",
      "         0.0       0.80      0.78      0.79      3727\n",
      "         1.0       0.78      0.80      0.79      3681\n",
      "\n",
      "    accuracy                           0.79      7408\n",
      "   macro avg       0.79      0.79      0.79      7408\n",
      "weighted avg       0.79      0.79      0.79      7408\n",
      "\n",
      "Test Data Accuracy Report--> \n",
      "               precision    recall  f1-score   support\n",
      "\n",
      "         0.0       0.79      0.80      0.80       901\n",
      "         1.0       0.81      0.80      0.81       952\n",
      "\n",
      "    accuracy                           0.80      1853\n",
      "   macro avg       0.80      0.80      0.80      1853\n",
      "weighted avg       0.80      0.80      0.80      1853\n",
      "\n"
     ]
    }
   ],
   "source": [
    "## Train and test accuracy report\n",
    "\n",
    "print('Train Data Accuracy Report--> \\n',classification_report(train_data['subscribe'], train_data['train_pred_class']))\n",
    "print('Test Data Accuracy Report--> \\n',classification_report(test_data['subscribe'], test_data['test_pred_class']))"
   ]
  },
  {
   "cell_type": "code",
   "execution_count": 295,
   "metadata": {},
   "outputs": [
    {
     "data": {
      "image/png": "[encoded data removed]",
      "text/plain": [
       "<Figure size 432x288 with 1 Axes>"
      ]
     },
     "metadata": {
      "needs_background": "light"
     },
     "output_type": "display_data"
    }
   ],
   "source": [
    "# plot ROC Curve\n",
    "\n",
    "\n",
    "fpr, tpr, thresholds = roc_curve(test_data['subscribe'], test_data['test_pred_class'], pos_label = 1)\n",
    "\n",
    "plt.figure(figsize=(6,4))\n",
    "\n",
    "plt.plot(fpr, tpr, linewidth=2)\n",
    "\n",
    "plt.plot([0,1], [0,1], 'k--' )\n",
    "\n",
    "plt.rcParams['font.size'] = 12\n",
    "\n",
    "plt.title('ROC curve for RainTomorrow classifier')\n",
    "\n",
    "plt.xlabel('False Positive Rate (1 - Specificity)')\n",
    "\n",
    "plt.ylabel('True Positive Rate (Sensitivity)')\n",
    "\n",
    "plt.show()"
   ]
  },
  {
   "cell_type": "code",
   "execution_count": null,
   "metadata": {},
   "outputs": [],
   "source": []
  }
 ],
 "metadata": {
  "kernelspec": {
   "display_name": "Python 3",
   "language": "python",
   "name": "python3"
  },
  "language_info": {
   "codemirror_mode": {
    "name": "ipython",
    "version": 3
   },
   "file_extension": ".py",
   "mimetype": "text/x-python",
   "name": "python",
   "nbconvert_exporter": "python",
   "pygments_lexer": "ipython3",
   "version": "3.7.6"
  }
 },
 "nbformat": 4,
 "nbformat_minor": 4
}
