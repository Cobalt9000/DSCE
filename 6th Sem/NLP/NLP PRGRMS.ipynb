{
 "cells": [
  {
   "cell_type": "code",
   "execution_count": null,
   "metadata": {
    "id": "K4EDreNYk6zh"
   },
   "outputs": [],
   "source": [
    "# NLP programs\n",
    "# with out packages"
   ]
  },
  {
   "cell_type": "code",
   "execution_count": null,
   "metadata": {
    "id": "edn7JUHUk-rU"
   },
   "outputs": [],
   "source": [
    "#1.Study of Python and basic commands to access text data. \n",
    "#(from notepad, pdf, word documents,online)"
   ]
  },
  {
   "cell_type": "code",
   "execution_count": 1,
   "metadata": {
    "colab": {
     "base_uri": "https://localhost:8080/"
    },
    "executionInfo": {
     "elapsed": 393,
     "status": "ok",
     "timestamp": 1719847027794,
     "user": {
      "displayName": "Bhargavi",
      "userId": "01018671556535394490"
     },
     "user_tz": -330
    },
    "id": "HYt31LlGlJHV",
    "outputId": "4b9e4f85-a46a-4c59-90a1-8254883d3fdd"
   },
   "outputs": [
    {
     "name": "stdout",
     "output_type": "stream",
     "text": [
      "Hello world, my name is suprith\n"
     ]
    }
   ],
   "source": [
    "# Open a text file and read its contents\n",
    "with open('test.txt', 'r') as file:\n",
    "    content = file.read()\n",
    "    print(content)\n"
   ]
  },
  {
   "cell_type": "code",
   "execution_count": null,
   "metadata": {
    "colab": {
     "base_uri": "https://localhost:8080/"
    },
    "executionInfo": {
     "elapsed": 698,
     "status": "ok",
     "timestamp": 1719847251455,
     "user": {
      "displayName": "Bhargavi",
      "userId": "01018671556535394490"
     },
     "user_tz": -330
    },
    "id": "vokEVZ-AlmL3",
    "outputId": "845b0a39-7132-4104-a17f-e0f1b0641678"
   },
   "outputs": [],
   "source": [
    "# Path to your PDF file\n",
    "pdf_path = 'pdf.pdf'\n",
    "\n",
    "# Open the PDF file in binary mode\n",
    "with open(pdf_path, 'rb') as file:\n",
    "    # Read the raw binary content\n",
    "    content = file.read()\n",
    "\n",
    "    # Print the raw content (for illustration purposes)\n",
    "    print(content[:100])  \n",
    "    # Print the first 100 bytes as an example\n"
   ]
  },
  {
   "cell_type": "code",
   "execution_count": 3,
   "metadata": {
    "colab": {
     "base_uri": "https://localhost:8080/"
    },
    "executionInfo": {
     "elapsed": 435,
     "status": "ok",
     "timestamp": 1719847035305,
     "user": {
      "displayName": "Bhargavi",
      "userId": "01018671556535394490"
     },
     "user_tz": -330
    },
    "id": "ayQUESD7ltql",
    "outputId": "3fe4a7d3-2f7d-4006-ba25-e0a6e7d76a69"
   },
   "outputs": [
    {
     "name": "stdout",
     "output_type": "stream",
     "text": [
      "PK\u0003\u0004\u0014\u0000\u0006\u0000\b\u0000\u0000\u0000!\u0000d-e\u0001\u0000\u0000\u0005\u0000\u0000\u0013\u0000\b\u0002[Content_Types].xml \u0004\u0002(\u0000\u0002\u0000\u0000\u0000\u0000\u0000\u0000\u0000\u0000\u0000\u0000\u0000\u0000\u0000\u0000\u0000\u0000\u0000\u0000\u0000\u0000\u0000\u0000\u0000\u0000\u0000\u0000\u0000\u0000\u0000\u0000\u0000\u0000\u0000\u0000\u0000\u0000\u0000\u0000\u0000\u0000\u0000\u0000\u0000\u0000\u0000\u0000\u0000\u0000\u0000\u0000\u0000\u0000\u0000\u0000\u0000\u0000\u0000\u0000\u0000\u0000\u0000\u0000\u0000\u0000\u0000\u0000\u0000\u0000\u0000\u0000\u0000\u0000\u0000\u0000\u0000\u0000\u0000\u0000\u0000\u0000\u0000\u0000\u0000\u0000\u0000\u0000\u0000\u0000\u0000\u0000\u0000\u0000\u0000\u0000\u0000\u0000\u0000\u0000\u0000\u0000\u0000\u0000\u0000\u0000\u0000\u0000\u0000\u0000\u0000\u0000\u0000\u0000\u0000\u0000\u0000\u0000\u0000\u0000\u0000\u0000\u0000\u0000\u0000\u0000\u0000\u0000\u0000\u0000\u0000\u0000\u0000\u0000\u0000\u0000\u0000\u0000\u0000\u0000\u0000\u0000\u0000\u0000\u0000\u0000\u0000\u0000\u0000\u0000\u0000\u0000\u0000\u0000\u0000\u0000\u0000\u0000\u0000\u0000\u0000\u0000\u0000\u0000\u0000\u0000\u0000\u0000\u0000\u0000\u0000\u0000\u0000\u0000\u0000\u0000\u0000\u0000\u0000\u0000\u0000\u0000\u0000\u0000\u0000\u0000\u0000\u0000\u0000\u0000\u0000\u0000\u0000\u0000\u0000\u0000\u0000\u0000\u0000\u0000\u0000\u0000\u0000\u0000\u0000\u0000\u0000\u0000\u0000\u0000\u0000\u0000\u0000\u0000\u0000\u0000\u0000\u0000\u0000\u0000\u0000\u0000\u0000\u0000\u0000\u0000\u0000\u0000\u0000\u0000\u0000\u0000\u0000\u0000\u0000\u0000\u0000\u0000\u0000\u0000\u0000\u0000\u0000\u0000\u0000\u0000\u0000\u0000\u0000\u0000\u0000\u0000\u0000\u0000\u0000\u0000\u0000\u0000\u0000\u0000\u0000\u0000\u0000\u0000\u0000\u0000\u0000\u0000\u0000\u0000\u0000\u0000\u0000\u0000\u0000\u0000\u0000\u0000\u0000\u0000\u0000\u0000\u0000\u0000\u0000\u0000\u0000\u0000\u0000\u0000\u0000\u0000\u0000\u0000\u0000\u0000\u0000\u0000\u0000\u0000\u0000\u0000\u0000\u0000\u0000\u0000\u0000\u0000\u0000\u0000\u0000\u0000\u0000\u0000\u0000\u0000\u0000\u0000\u0000\u0000\u0000\u0000\u0000\u0000\u0000\u0000\u0000\u0000\u0000\u0000\u0000\u0000\u0000\u0000\u0000\u0000\u0000\u0000\u0000\u0000\u0000\u0000\u0000\u0000\u0000\u0000\u0000\u0000\u0000\u0000\u0000\u0000\u0000\u0000\u0000\u0000\u0000\u0000\u0000\u0000\u0000\u0000\u0000\u0000\u0000\u0000\u0000\u0000\u0000\u0000\u0000\u0000\u0000\u0000\u0000\u0000\u0000\u0000\u0000\u0000\u0000\u0000\u0000\u0000\u0000\u0000\u0000\u0000\u0000\u0000\u0000\u0000\u0000\u0000\u0000\u0000\u0000\u0000\u0000\u0000\u0000\u0000\u0000\u0000\u0000\u0000\u0000\u0000\u0000\u0000\u0000\u0000\u0000\u0000\u0000\u0000\u0000\u0000\u0000\u0000\u0000\u0000\u0000\u0000\u0000\u0000\u0000\u0000\u0000\u0000\u0000\u0000\u0000\u0000\u0000\u0000\u0000\u0000\u0000\u0000\u0000\u0000\u0000\u0000\u0000\u0000\u0000\u0000\u0000\u0000\u0000\u0000\u0000\u0000\u0000\u0000\u0000\u0000\u0000\u0000\u0000\u0000\u0000\u0000\u0000\u0000\u0000\u0000\u0000\u0000\u0000\u0000\u0000\u0000\u0000\u0000\u0000\u0000\u0000\u0000\u0000\u0000\u0000\u0000\u0000\u0000\u0000\u0000\u0000\u0000\u0000\u0000\u0000\u0000\u0000\u0000\u0000\u0000\u0000\u0000\u0000\u0000\u0000\u0000\u0000\u0000\u0000\u0000\u0000\u0000\u0000\u0000\u0000\u0000N0\u0010EHC-J@\b5\u0012*Q>'_g\u0011B\u0011DJf=w\u00075\u0012b_X\u0006Nzd\u001fe\tSx\u0007%@b`\t2RT9bx<9X\n",
      "\u001fQ\n",
      "8AO1\u0003~q\u001d",
      "\u001c",
      "k\u000f6\u001c",
      "<A%\u0016\u00065}nD0eMc*\bh)|\u000fJ#\u0014\u000e\u001a\u0018?H+\u0003v7:\u0015dc\u0011UX+\u001f\u0015W^.,)6\u0007r\u0012Z}\u0016\u00125E[B}_s$\u0018HOv\u0001\u0004\bsR|3\f",
      "R\u0011w\"\u0006\u001f\f",
      "<'\u001c",
      "CR8h?li\u0000\u0011%A}\u001b(PeEBoO76\u0007|{\u000e\u0000\u0000\u0000\u0003\u0000PK\u0003\u0004\u0014\u0000\u0006\u0000\b\u0000\u0000\u0000!\u0000U~\u0005\u0000\u0000\u0000\u0002\u0000\u0000\u000b",
      "\u0000\b\u0002_rels/.rels \u0004\u0002(\u0000\u0002\u0000\u0000\u0000\u0000\u0000\u0000\u0000\u0000\u0000\u0000\u0000\u0000\u0000\u0000\u0000\u0000\u0000\u0000\u0000\u0000\u0000\u0000\u0000\u0000\u0000\u0000\u0000\u0000\u0000\u0000\u0000\u0000\u0000\u0000\u0000\u0000\u0000\u0000\u0000\u0000\u0000\u0000\u0000\u0000\u0000\u0000\u0000\u0000\u0000\u0000\u0000\u0000\u0000\u0000\u0000\u0000\u0000\u0000\u0000\u0000\u0000\u0000\u0000\u0000\u0000\u0000\u0000\u0000\u0000\u0000\u0000\u0000\u0000\u0000\u0000\u0000\u0000\u0000\u0000\u0000\u0000\u0000\u0000\u0000\u0000\u0000\u0000\u0000\u0000\u0000\u0000\u0000\u0000\u0000\u0000\u0000\u0000\u0000\u0000\u0000\u0000\u0000\u0000\u0000\u0000\u0000\u0000\u0000\u0000\u0000\u0000\u0000\u0000\u0000\u0000\u0000\u0000\u0000\u0000\u0000\u0000\u0000\u0000\u0000\u0000\u0000\u0000\u0000\u0000\u0000\u0000\u0000\u0000\u0000\u0000\u0000\u0000\u0000\u0000\u0000\u0000\u0000\u0000\u0000\u0000\u0000\u0000\u0000\u0000\u0000\u0000\u0000\u0000\u0000\u0000\u0000\u0000\u0000\u0000\u0000\u0000\u0000\u0000\u0000\u0000\u0000\u0000\u0000\u0000\u0000\u0000\u0000\u0000\u0000\u0000\u0000\u0000\u0000\u0000\u0000\u0000\u0000\u0000\u0000\u0000\u0000\u0000\u0000\u0000\u0000\u0000\u0000\u0000\u0000\u0000\u0000\u0000\u0000\u0000\u0000\u0000\u0000\u0000\u0000\u0000\u0000\u0000\u0000\u0000\u0000\u0000\u0000\u0000\u0000\u0000\u0000\u0000\u0000\u0000\u0000\u0000\u0000\u0000\u0000\u0000\u0000\u0000\u0000\u0000\u0000\u0000\u0000\u0000\u0000\u0000\u0000\u0000\u0000\u0000\u0000\u0000\u0000\u0000\u0000\u0000\u0000\u0000\u0000\u0000\u0000\u0000\u0000\u0000\u0000\u0000\u0000\u0000\u0000\u0000\u0000\u0000\u0000\u0000\u0000\u0000\u0000\u0000\u0000\u0000\u0000\u0000\u0000\u0000\u0000\u0000\u0000\u0000\u0000\u0000\u0000\u0000\u0000\u0000\u0000\u0000\u0000\u0000\u0000\u0000\u0000\u0000\u0000\u0000\u0000\u0000\u0000\u0000\u0000\u0000\u0000\u0000\u0000\u0000\u0000\u0000\u0000\u0000\u0000\u0000\u0000\u0000\u0000\u0000\u0000\u0000\u0000\u0000\u0000\u0000\u0000\u0000\u0000\u0000\u0000\u0000\u0000\u0000\u0000\u0000\u0000\u0000\u0000\u0000\u0000\u0000\u0000\u0000\u0000\u0000\u0000\u0000\u0000\u0000\u0000\u0000\u0000\u0000\u0000\u0000\u0000\u0000\u0000\u0000\u0000\u0000\u0000\u0000\u0000\u0000\u0000\u0000\u0000\u0000\u0000\u0000\u0000\u0000\u0000\u0000\u0000\u0000\u0000\u0000\u0000\u0000\u0000\u0000\u0000\u0000\u0000\u0000\u0000\u0000\u0000\u0000\u0000\u0000\u0000\u0000\u0000\u0000\u0000\u0000\u0000\u0000\u0000\u0000\u0000\u0000\u0000\u0000\u0000\u0000\u0000\u0000\u0000\u0000\u0000\u0000\u0000\u0000\u0000\u0000\u0000\u0000\u0000\u0000\u0000\u0000\u0000\u0000\u0000\u0000\u0000\u0000\u0000\u0000\u0000\u0000\u0000\u0000\u0000\u0000\u0000\u0000\u0000\u0000\u0000\u0000\u0000\u0000\u0000\u0000\u0000\u0000\u0000\u0000\u0000\u0000\u0000\u0000\u0000\u0000\u0000\u0000\u0000\u0000\u0000\u0000\u0000\u0000\u0000\u0000\u0000\u0000\u0000\u0000\u0000\u0000\u0000\u0000\u0000\u0000\u0000\u0000\u0000\u0000\u0000\u0000\u0000\u0000\u0000\u0000\u0000\u0000\u0000\u0000\u0000\u0000\u0000\u0000\u0000\u0000\u0000\u0000\u0000\u0000\u0000\u0000\u0000\u0000\u0000\u0000\u0000\u0000\u0000\u0000\u0000\u0000\u0000\u0000\u0000MK\u00031\u0010!;*\"^DMd\u0001C2\u000f(.\u001e",
      "3y3C\u001d",
      "+4xW(A\f",
      "yXJB\u001d",
      "Wp\u0004b#InJ\u0010\u0014*E\u001d",
      "b=[J\u000fM%a B\u001d",
      ",o0f@=a n\u0015\u0010\u0014oA;N<\u0017v\"\u001febR1\u0013R\bEF\u0003\u001e",
      "7ZnhY\u0010j\u001fy#1'<\u001f7\u001f\r",
      "9m.3Y\u0003\u0000\u0000\u0003\u0000PK\u0003\u0004\u0014\u0000\u0006\u0000\b\u0000\u0000\u0000!\u00007/\u0003\u0000\u0000\u0017\f",
      "\u0000\u0000\u0011\u0000\u0000\u0000word/document.xmlmo \u0010OiZMY~\u0014\u000f `, o;r\\)\n",
      ";\u000e(J3-\\\u000eY,uY=Q.?9D$;A3\u0000\"!'\u000b",
      "75&\u0010$\u0002`DI-fH@reT1\n",
      "<+r%\t\u001al{c7Z\u0001-pH_\r",
      "\u00199AA\u000f\u00100j\u0004YZQ/\u0010x\"I?R&M6i:N}eN3\u0018J%Jm\u000f\u0000c63s\u000270eo=<\u0002 j\u0014\t\u0019S\u001e",
      "\u0015E.G5(f\u0016\u0011=\u001aMT_\u000b",
      "K\u00115(8L,K\u000b",
      "^j!;J\u0006\t^z>:E\u001a]\\f\u0013\u0018\u0015\u001d",
      "O\u0005\bZ\t\u001d",
      "/1;3\u0010irX8X\u000ek\u0002w;s\u0001wW!6Vc\u0013=BV\u0017\u001bb]'%\u00168q'q\u0011<XR=*\u001b\u001a\u0018)\u0007uN?ssDOI&\u0015p\bRlq\u001d",
      "plS|c!{m?cwF'00r\u0013\u001c",
      "so\u001e",
      "MV[H3V\u001a\u0006}8\r",
      "47a\u0013&zw\u0016\u0015\u0006\u0010jnZF\r",
      "Y\u0002\u0018n\u0011\r",
      "^]Aar%e\u001fvl\u00042N\u001d",
      "c\u000e\u001b\u0007(,\u001c",
      "h\u0015M^\bMY-\u0016<A(?!'3\u0018G\u001f\u0012:F^bIjF\u001a#Et{1R\u001c",
      "S;\bo4\u0017dgW#k\u001c",
      "\u0013Z)\u0010GeOHYF\u00102\u0014JZwY\u001e",
      "\u0010\u0001\u0000\u0000\u0003\u0000PK\u0003\u0004\u0014\u0000\u0006\u0000\b\u0000\u0000\u0000!\u0000dQ\u0000\u0000\u00001\u0003\u0000\u0000\u001c",
      "\u0000\b\u0001word/_rels/document.xml.rels \u0004\u0001(\u0000\u0001\u0000\u0000\u0000\u0000\u0000\u0000\u0000\u0000\u0000\u0000\u0000\u0000\u0000\u0000\u0000\u0000\u0000\u0000\u0000\u0000\u0000\u0000\u0000\u0000\u0000\u0000\u0000\u0000\u0000\u0000\u0000\u0000\u0000\u0000\u0000\u0000\u0000\u0000\u0000\u0000\u0000\u0000\u0000\u0000\u0000\u0000\u0000\u0000\u0000\u0000\u0000\u0000\u0000\u0000\u0000\u0000\u0000\u0000\u0000\u0000\u0000\u0000\u0000\u0000\u0000\u0000\u0000\u0000\u0000\u0000\u0000\u0000\u0000\u0000\u0000\u0000\u0000\u0000\u0000\u0000\u0000\u0000\u0000\u0000\u0000\u0000\u0000\u0000\u0000\u0000\u0000\u0000\u0000\u0000\u0000\u0000\u0000\u0000\u0000\u0000\u0000\u0000\u0000\u0000\u0000\u0000\u0000\u0000\u0000\u0000\u0000\u0000\u0000\u0000\u0000\u0000\u0000\u0000\u0000\u0000\u0000\u0000\u0000\u0000\u0000\u0000\u0000\u0000\u0000\u0000\u0000\u0000\u0000\u0000\u0000\u0000\u0000\u0000\u0000\u0000\u0000\u0000\u0000\u0000\u0000\u0000\u0000\u0000\u0000\u0000\u0000\u0000\u0000\u0000\u0000\u0000\u0000\u0000\u0000\u0000\u0000\u0000\u0000\u0000\u0000\u0000\u0000\u0000\u0000\u0000\u0000\u0000\u0000\u0000\u0000\u0000\u0000\u0000\u0000\u0000\u0000\u0000\u0000\u0000\u0000\u0000\u0000\u0000\u0000\u0000\u0000\u0000\u0000\u0000\u0000\u0000\u0000\u0000\u0000\u0000\u0000\u0000\u0000\u0000\u0000\u0000\u0000\u0000\u0000\u0000\u0000\u0000\u0000\u0000\u0000\u0000\u0000\u0000\u0000\u0000\u0000\u0000\u0000\u0000\u0000\u0000\u0000\u0000\u0000\u0000\u0000\u0000\u0000\u0000\u0000\u0000\u0000\u0000\u0000\u0000\u0000\u0000\u0000\u0000\u0000\u0000\u0000\u0000\u0000\u0000\u0000\u0000\u0000\u0000\u0000\u0000j0\u0010E}-;}PBlJ!\u0000E\u001e",
      "?,\tHI`rs6w{r\u0010{*x\u001e",
      "A\u0010kWk\u001d",
      "*\u0018`[^^ljNKD8R1d:\u001c",
      "4e>K/4V\u0006m^urw2N\u0019P0V\u0010w5j\f",
      "\u001fo7o\u0003:>S!?p8JX\u001d",
      "[d\u00050KDEVK\u001fc2P,a].\u001fsY+\u0013(!O>z\u0005\u0000\u0000\u0003\u0000PK\u0003\u0004\u0014\u0000\u0006\u0000\b\u0000\u0000\u0000!\u0000g\u0006\u0000\u0000 \u0000\u0000\u0015\u0000\u0000\u0000word/theme/theme1.xmlY\u001b7\u0014\u0017?;\u001e",
      "x?Mv%( 1!PS/BZz)C)\r",
      "4K6#*ilt\u001a#~zYs\u00138Q)]q\u001d",
      "1o9wB\u0001\\h\u0002\tPY \\pG\u0004(D@G|\u0007@xXc\r",
      "\u0015\u001aHM)\u000b",
      "M\u0017'\f",
      "J!)z[+\u0010G\u000e`(N\u0018R\u0017\t:\u001d",
      ")w\t\u0003'\u001c",
      "9\u000e\u0003\u0000\u0002\u0003-Nqjq-DDlFnrKr\u001f\u00055m\\>k}\u001a\u0000cK\u0016[f@Ew^*fU\f",
      "\u0006%5\u000e^kPX],\u001bx\r",
      "J\u001e",
      "k[J]\u0006^\u00026Vo4jK\u001a2d\n",
      "ojnb&\u0012HZ\b)\u001bHv.\u00148\u0002b\u0011)\u001c",
      "K\\;\u0016\u001e",
      "1\u000b",
      "\u00070\\v^$\u0003z8A0#tV\u0003X\u001bR|=yr\u0017@X`g^\u0001Oy\u0016/_\u0017\u0006ozw_S\u000b",
      "(\u000b",
      "\u001f\u0010qp\u000b",
      ";4\u000b",
      "LF$\u0001Yvs\u0018A%cAE`o- \u0016\\\u0007vd\u0001\r",
      "G\u0001\u000b",
      "l\u0001\f",
      "B\u0003x@)Pf]M5W\n",
      "OY\u001d",
      "\bOlsw72Me7@\u0006C\"]\u000e}\u0014!\u0001\u0018!d\u0011a\u0003<f\u00001@l5\u0010hJp(\u00116lsp\u000ft(\u0013\u0013)\u0006$6\u0018f\u000e\u0002V0$Y>\u0014\r",
      "s!=#BA8f\u000b",
      "M(\u0007d\u0011H&f=:\u00060q\u0014d\f",
      "Q\b\u000e\u000eQm\u0007\u0018\u001e",
      "Fwe\u001a\u0007\u001a3@\u000b",
      "2B#\u0019FGg\u001b\u0010p\u0010\r",
      "Oc)\u001b*{f\u001bU\u0010*n,\b#\u001c",
      ">\u0007Q\bY[33d#&7-^xfRCc}Z\u000f\u0003hjs{.7cR\u001d",
      "d[\u0019BbL\u0006\u0010boKRp*\u0016[MP(zB\u001c",
      "S\u00017Ebj\u001e",
      ";}Y6+.e\u0013\u00176=8\u000e<K,5yf.\u0019\u0007f\u0002F_\u0003.{0g\t9\u0012\u000b",
      ".}\r",
      "-h\u0003\f",
      "g\u001c",
      "(gRAL,tU\u001a NxwR\u0000e&Z=\b]-__\b(!$Q:!Wv!,\u0016\u0016\r",
      ">ZzE\u001e",
      "N\u0000kj%a$MD)_y=gLseyMb<mI\"\u0013<<6/\u0006=em\u001aJ\"\u001bDf\u000b",
      "=WJ5c\u0018$\u001fX*SAG-g,~\u00123.z\u0007\tL\u000f%\u000f@\f",
      "\u0010\u001c",
      "XD)WWkH5r+d4Ir,Qb\u001d",
      "}Oj$}\u0014LN\u001d",
      "(\r",
      "U\u0001'5'e;FZnE\r",
      "PE!\u0003<Q<5:4UbFr{\u000b",
      "L9@i\u001f\u001fJ*Iuy\u001f\b\u0019jd\u00065B-5]`An\u001d",
      "ygE\u0006Q\u000eU][[/XF~OVs\"*0]L2]e\u0007\u0002\u0019n9\u000fj\u000b",
      "r-4r]KjuG(\"\bKdO\u0016w}*iX\u000e.ja\u0007XZa\u001b4N,\u0007J(4NW{^h\u000e\u001e",
      "9D+rR7\n",
      "R[\\E,+~hik?\u0000\u0000\u0000\u0003\u0000PK\u0003\u0004\u0014\u0000\u0006\u0000\b\u0000\u0000\u0000!\u0000C`\u0004\u0000\u0000\f",
      "\u0000\u0000\u0011\u0000\u0000\u0000word/settings.xmlWmo6\u0010>`9d[:ElG-\f",
      "L/\u0002Iq\u001d",
      ")r[Es;'z;4b\u001aD\u0017GD!1\u0015iC\u0004=mIA\u0018\u0003f\u0007\u0010B\u0006[c4\f",
      "u%\u001c",
      "\u000b",
      "Y\u0011\u0001R*\f",
      "Mz~!y\f",
      ")\u0010A\u00120r\u001aJ-DBI-Kc]RY {m\\\u00169\u0011E\f",
      "\u0015a\u0014zK+rAv3o\u0006^*|xMzR Z\u0001q\u0013\u000b",
      "<z\u0001t}\u0001-:(p\u0006nu<\u0005@R0&-F\b8\u0014\u001c",
      "qhW(dN\u0000p}\u0016D<yu?ypB\f",
      "\"}dE$mp|;\n",
      "~E\bP \u001d",
      "a\u000fs_8\u0010pK\u000ev\u0001EJ\u0015Q\u0005\\=hY \n",
      " ,\u0006\u0019\u0000JuE\u0018s=`\u0004A}QC\u0012Ijf\u001e",
      "P6\u0002\u001d",
      "]-dE\n",
      "\u0015u\n",
      "@Kad\u000e\u000f)hkvUkfL@\u0010C\u0001fZ+\u000e.h|$xE1y_\u0003#\u0019lfMkjm( n\u0013\u0019|/\u0001\"l@CE2L\r",
      "e{`d2F\u0015UJ7\u000b",
      "F(\b@{+\u0013Ur|K\u0010Fqa1\u0003q&Pm?w)\u0003\u0001k,9B\u001b\u001bdIvh\u0014[7\u0013\u0013\u001e",
      "\u000eO,u{#+z+;~Ck\u0019\u0015^\u0013KTs\u001b\f",
      "\u0015\u0000<TW\u000b",
      "R5[!p[\u000b",
      "M)#SDd]5BUCIo\u0012F'\u0015r/u^\u0002:\u0016N:u\u0006]{l/?%HkM4\u001b>bjmAV\u001ah\u001a0\u0019x^Mb\u001b{A,XN\u0016{leN6q'K,-\u0014\u0005\u0011V^JNBN\u00021`5&@\u0010,\u000b",
      "\u0014vh[TE3-\u0011Cv)yYD05\\Q\u0011|D85sY9\u001d",
      "\u000f9KU.v\u0015\u0014\b>\u001bN\u0017\u00188*cF*\u0011X;jI67qIXv\u0002L\u0019\u0004::n\\I,Jl<78/\u0016|r^k?\u0000\u0000\u0000\u0003\u0000PK\u0003\u0004\u0014\u0000\u0006\u0000\b\u0000\u0000\u0000!\u0000\u0004W/\u0007\u0010\u0000\u0000\u0000\u0000\u000f\u0000\u0000\u0000word/styles.xml]rF\u0012}\u0007\u0014v\u001f\u001c",
      "]HQ*JJvmG\u0010\u0018@\u0001@\u0000\u000e\u0018\u0010=h1kU\u0016q39}\u001a?'W\u0017q\r",
      "\u000e~\u001f\u0004<\r",
      "(N\u0006^\f",
      "di,g'^\f",
      "~(\u0012^\u0004\u0002 -N`V\"9+~\u0016<\u0015\u001bY>gX,X.^|x\u0012'qw?\u001e",
      "\u0018\u000b",
      "J6!9OKeD fi1\u0017E\u00051E(A\u00137gqZ\u001c",
      "\u0000<\u000e\u000f`L\u00140?W\n",
      "\b\u0007p\b\u0000!81\u0018{#\u001c",
      "#\u000b",
      "3\u0016@DA\u001c",
      "\u000e~?*2*-+\u00153\u001b\u000e{iI\"\u0007\u0005\t\u0002\u0005,\u0017c)Z/\u000fA\u0010\u0007PWo-Mn\u0016se\u0011<\";M<\u0016;Ox pVEo:}&wl\f",
      "Z}\u0011G`O6Tl^UQ\u0018Uk.e%,Gg/ohlW`t\\\"%R\u001e",
      "]!%K{fl_k\u0016K\u000b",
      "\u0016SlZr\u0011{\u000e\u0007I,CIi)Yd23(\u0000\u0003$\u0002b+\u0007\u001e",
      "b@%V~,\u0017lYy8xj6G^xfV2\u0015cHI\u0011\u0016bk$\u001fA\"^\u0015~<E\u0004\u0007\u0010(CiQXG8v\u0017\u001a\u001a]54UCjHI{\u0017\r",
      ")l(N#q\u0006Qf\u00006\u001c",
      "\u001a8\u000eq\u001c",
      "ZB8q(\u0001pt48\u000e7EYB\u000eoo~~J~\u0006\u001e",
      "pw?\u000fw{\u001e",
      "z\u0015\\\u000b",
      "eoML\u0007r\u001b\u0002K4xs${L-o\u0010%Ry)S \u0006^<;<\u0016<`Q$\b\u0001s.2t<i)\u001d",
      "\u000eTfAO\b|sx\u001a\u0011\u000f_H\u0012\u0014j\u0016L$&p9\u000b",
      "2F\u0016\u001fE 2I8\u0011G\u001a\u0017SXs\u0003\u0005?5P03\u0003\u0005?18\u001a\"F4R\u0006h\f",
      "\u001ai\u001a7F4n\u0006h\f",
      "ZqDx{qvwdJG~F25>gY \u000b",
      "1cV#QZv.\u000f\u001a\u001aj<\"yxD\u0002K&\t;|v9)\u001bE:%K=6V\u0000 A3,\u0007YI'E[VXe\u0019Hg \tzd\u0003M\u0018~H\u001e",
      "z#]eI=\u000e3k\u000f\u0015%$v\"V\u001aDS}uD-z\u001fM,N\u0002\u0019\u000fl!L904\u0017YYfs2LS\to|O\u000e$8}\":s\u0002\tN2\u001a)43Ncs\u000fd,hnroK*9\u0011-/@[\".>C0\u001bRxey,BT#\u0001rC, \f",
      ",UQMu5\u001d",
      "\\i\u001a\\)bS\u001e",
      "\u0012\u001c",
      "\u001a\\]:\u0015EGu\u0015\u001e",
      "O\f",
      "^dt\r",
      "`\u0005H6\u0015 \u0010fr\u0016G\b\u000fXQ\u001f/(<W\u001e",
      "Gdd(0*&\u0014\u0018\u0015\r\n",
      "\u0003\u0005FJ@;t,X``DS\u0000\u000b",
      "HODWy,0*?S`T~LQMS1\t;XT>gAh\u0017Y'\"\tg\u0004\u0005RvgSJ\t e:!lk8*\u0013I,~\u0011TDYd\u0019QmmuQm3SOMB>cr|V?}Ne\f",
      "ngu\u0019o\u00125\r",
      "6<\"hGr^u\u0014>L1\u001e",
      "v7V\u001e",
      "f\\=vbIY\u001e",
      "um[fk\u001d",
      "-a'\u001d",
      "-N,\u000fp?up6/\u001bms\u0005hM*y\u0018\u0005nqw\u0013\u001e",
      "\"7\n",
      "FNnrC\t\u0013\u001a3;&h'@WNek\u0017?u-&NiFa\u000b",
      "WkQ=\u001bsqCt\u000e@nNi\n",
      "In\r",
      "9H!\n",
      "\u0011p\n",
      "\u0015V\u0010'Z\u0005!:O\u0007\u0010hB\bP{\u0014\u0010(\u0002s/B\u0014P!\u0004Z\u0010\u0002-T8\u0001\t\u0015\n",
      "}\n",
      "Q|\n",
      "QB\u0010hB\bP!\u0004Z\u0010\u0002-TK\u0010\u0005-T\b\u0016*@\u000b",
      "U\u0017{\b\u0015\n",
      "}\n",
      "Q|\n",
      "QB\u0010hB\bP!\u0004Z\u0010\u0002-T\b\u0012*0\u0012*DA\u000b",
      "\u0015B\n",
      "!B\u001a\u000b",
      "\u0015\n",
      "}\n",
      "Q|\n",
      "QB\u0010hB\bP!\u0004Z\u0010\u0002-T\b\u0012*0\u0012*DA\u000b",
      "\u0015B\n",
      "!BU\u0017\u000b",
      "{\b\u0015\n",
      "}\n",
      "Q|\n",
      "QB\u0010hB\bP!\u0004Z\u0010\u0002-T\b\u0012*0\u0012*DA\u000b",
      "\u0015B\n",
      "!\\tfz:~t(\r",
      "5\u000eUY,{\b\u001a\u001f<\u001c",
      "|\u001bH<IL\u001d",
      "m\\uK\u0004/O=_dPL\u0001%\\\u0004ImK0\u001c",
      "E_\u0012\u0006GmAW)Eq[\u000f\u001c",
      "m2C\u0016-C8m2\u0003\u0016-@\u0006M4/\u0005\bmh!\u001c",
      "\u0011\u0012rUc(\u0011FJ\u001b\u0001\u0013\u0006O\u001b\n",
      "\u001bj(3,Bu#`\b^T\u0003\u0018!7\u0010j\u0018\u0018TC\u0004,E5\u001aByS\r",
      "2,\u0010\u0001K5DR\u001aByS\r",
      ";,\u0010\u0001K5DR\r",
      "\u0011\u00060TC(o!\u001f KFS\r",
      "\u0011TC\u0004,\u0010j\u0000O5\u001aBQ(kT\u0018q0\u0010wB\f",
      "q2,klB W\u0015l&=7BW\u001a\b(>0xbPhP~T&FRTVqR+lM5.[j\u001a-5Q\u001f\b^TVqR+lM5.[j\u001a-5QyBvSZeKnqR\u0013lj\\D5.[rRZeKT%7lj\\D5.[j\u001a-9eKTVq\u0007a\u0012\u0013\u0002v2{_;VJ\u0017YG\u0001G\u001d",
      "$`\u0014c&n=\u00147\u001a@uTJ\u001a\u0004af\\[T[\u0003\u0000jaQ\"G\u00034\u0017#6\u000eQ\\o]j\u0011X\u001e",
      "O\"\u0011x\u0003}N.\b~xV5w\u0011\u0018\u000f\u0018fM&uK:FwY3'W_\u000b",
      "~]7*\u0002\r",
      "j)E\u0000]\\igg:q>st\u001e",
      "\u0013hd[\u00133nV\"w^CC^z]O\u001a:A^!w6'\u001c",
      "aX@ZUFNW1)UC)R#Gh<\b\u0017;z\u0004l\u000f,\u0007/\u0007F\u000f8]@bA\u0010K+w|\u0015_=\r",
      "\"A\r",
      "7T\u0003\u0001a87I\u000b",
      "\u001bJ\u0004;7\u0014sN\r",
      "+4_\r",
      "s*P\f",
      "6\u000b",
      "\u001d",
      "u4\r",
      "AJ\n",
      "GS\u001c",
      "YU{[\u000b",
      " tVN\u0012MqJG{^R44~\u0003{g\u000b",
      "\tJ\u0007}\u001b'\u0012N\\]p\u0002wF/d\u001fq[eaZ}G\u000fB\f",
      "ak^A?\u001b\u0001Q\u00070f<\u0019AeS4RSzV\u0019SD2.D\f",
      "(=V\u0001fO\u0010\u001a\u0011eJ/]\u0017Z#\"VLy\u00109\u000faL)%A_@RN.J(1u\u0017*?\u0004]qpBD\u0019.9N.(yMD\u0019\u0017]\u000b",
      "26Zm\u001abl}M!\bk(\r",
      "U;\u0003\u00052}L\u0016b\\NeV\r",
      "q*p\u0012~=r/\u0011~U\r",
      "\u0003_5G|k::Q\u0018lj\\\u001c",
      "/3=g\u001aIPB\u0015XM\u0001\n",
      "%t9?\u0004ve6>s\u001b;\u000b",
      "\u0001\u001f\u0004d\u001a%.\n",
      "t3SLMMfZ\n",
      "M*6A\u001e",
      "M%,eU@-s54x5TtU\u00125j,X\u001aV0\u001c",
      "\u001c",
      "2VW)=msR\u001fy\\2\u0006o9JGNcih\u000em\u001fS\u001e",
      "]B\\[\u001b\u0011HE~$Y?-v/\u0019O{+9mU%VN7^R\r",
      "j\u0019\u0014Q=\u001d",
      "d89]\u0003o.DjF\u0010A%d\u000b",
      "\u0003\u0011~\u0015?\u000f\u0000\u0000\u0000\u0000\u0000\u0003\u0000PK\u0003\u0004\u0014\u0000\u0006\u0000\b\u0000\u0000\u0000!\u0000~vb^\u0001\u0000\u0000\u0003\u0000\u0000\u0014\u0000\u0000\u0000word/webSettings.xmlQO0\u0010\u0000w\u0013w@!0HbL\u001fP\u001bkl{K[\u001c",
      "N\u0019^/}rgM\t>ht\u0005\u001b\r",
      "s\u0014m5cY)aA\u0010rq}5of\r",
      "_!F2d0`U +\"\f",
      "\u0006G/KVD\r",
      "lD[<\u0003/Q,\u0007[\u000b",
      ".!\u0011]t\u001d",
      "ZsWG\t!P?xVhwbFgc2\u000eCE-E\u0005&\u00190g\u001d",
      "\f",
      "N]G~hqWL\u0007P^XG\u001aRz\n",
      "*\u001fwG<(*\u0011\b\u001aMmi!NPF kLC\u001b]O-\u001a[\u0015:j`c\u0013,&=\\|\u0003\u0000\u0000\u0003\u0000PK\u0003\u0004\u0014\u0000\u0006\u0000\b\u0000\u0000\u0000!\u0000w^\u0002\u0000\u0000\b\u0000\u0000\u0012\u0000\u0000\u0000word/fontTable.xmlKn0\u0010\u0005z\u0007AXWA\u0012E\"\"]tISET$\u0005\u000em[@\u0014hc(E=B)b\u0015]ZHO_3W[:\u001bI\u0011~\u000f\u000e\u0015DL\"b:q*\u0005\u001d",
      "\u0005zU>YJ1\u0002&Dnu6< \t\u0018z2l.XW8V_\u0005<-X\u000b",
      "\u0010\u001a\u0015FC%#t&SmhjR@2i9\\8SP\u0000S3OK\u001e",
      "L4\u0018\u0002qF\u0004=SLEp\u001f\u0015OA7@\u0002\f",
      "\tvc+g\"O9,\u00196\u001c",
      "\u0016p,\u0013@\b:Q q\r",
      "W#\u001a'\u0018S\"Vx7'+!\u0015^d:1MXpq7^\u0016\u000f[\u0017%\u0014\u000b",
      "S\u001a.'\bMM%X$X\u0001-v68\\\\~9Kw\n",
      "9\u0003(72IR\u001bXP\u0005le6@kz\u001e",
      "`<rK/\n",
      "+%h\u0014T)\n",
      "\u001c",
      "_+yzeY>wR'\u0012q\u001f\\'v?<=\u001d",
      "_@\u0000~}_}qB0u~\u00057wQ\u001a+~\u00198\u0005G\u001d",
      "\t\u0010h`|\u0019u/:r\u0007)HpQFm._s#v@\u0019,`P\u000fl3C\u0013\u001e",
      "\u000fWZ'\u0000\u0000\u0000\u0003\u0000PK\u0003\u0004\u0014\u0000\u0006\u0000\b\u0000\u0000\u0000!\u0000p+}\u0001\u0000\u0000.\u0003\u0000\u0000\u0011\u0000\b\u0001docProps/core.xml \u0004\u0001(\u0000\u0001\u0000\u0000\u0000\u0000\u0000\u0000\u0000\u0000\u0000\u0000\u0000\u0000\u0000\u0000\u0000\u0000\u0000\u0000\u0000\u0000\u0000\u0000\u0000\u0000\u0000\u0000\u0000\u0000\u0000\u0000\u0000\u0000\u0000\u0000\u0000\u0000\u0000\u0000\u0000\u0000\u0000\u0000\u0000\u0000\u0000\u0000\u0000\u0000\u0000\u0000\u0000\u0000\u0000\u0000\u0000\u0000\u0000\u0000\u0000\u0000\u0000\u0000\u0000\u0000\u0000\u0000\u0000\u0000\u0000\u0000\u0000\u0000\u0000\u0000\u0000\u0000\u0000\u0000\u0000\u0000\u0000\u0000\u0000\u0000\u0000\u0000\u0000\u0000\u0000\u0000\u0000\u0000\u0000\u0000\u0000\u0000\u0000\u0000\u0000\u0000\u0000\u0000\u0000\u0000\u0000\u0000\u0000\u0000\u0000\u0000\u0000\u0000\u0000\u0000\u0000\u0000\u0000\u0000\u0000\u0000\u0000\u0000\u0000\u0000\u0000\u0000\u0000\u0000\u0000\u0000\u0000\u0000\u0000\u0000\u0000\u0000\u0000\u0000\u0000\u0000\u0000\u0000\u0000\u0000\u0000\u0000\u0000\u0000\u0000\u0000\u0000\u0000\u0000\u0000\u0000\u0000\u0000\u0000\u0000\u0000\u0000\u0000\u0000\u0000\u0000\u0000\u0000\u0000\u0000\u0000\u0000\u0000\u0000\u0000\u0000\u0000\u0000\u0000\u0000\u0000\u0000\u0000\u0000\u0000\u0000\u0000\u0000\u0000\u0000\u0000\u0000\u0000\u0000\u0000\u0000\u0000\u0000\u0000\u0000\u0000\u0000\u0000\u0000\u0000\u0000\u0000\u0000\u0000\u0000\u0000\u0000\u0000\u0000\u0000\u0000\u0000\u0000\u0000\u0000\u0000\u0000\u0000\u0000\u0000\u0000\u0000\u0000\u0000\u0000\u0000\u0000\u0000\u0000\u0000\u0000\u0000\u0000\u0000\u0000\u0000\u0000\u0000\u0000\u0000\u0000\u0000\u0000\u0000\u0000\u0000\u0000\u0000\u0000\u0000\u0000\u0000QO0\u0010M\u000fKGa,c$jx\u0004\u001e",
      "P=\u0018{\r",
      "QL|}5\u001d",
      "<u#\u0012\r",
      "\u0018\t@R*\u001a$'C%K\r",
      "#r\u0000GU*L\"J\u000b",
      "3[\u001a\u0005]\"\u0011MB\u0013k(\u001bxB\u0005G\u00155\\l\n",
      "h--\u0000i-\f",
      "Mo$G\u0014lm\bC\u0001\u001a\u001d",
      "\u0006\u0011=\bp\u001774od`\"\u0015{zT\u000fVU5\r",
      "\u001fyjt+\u0001$KHPa\u000eYJO\u0013\u0004}caciX`\u0006D!j\r",
      "\u001c",
      "J\u001d",
      "g$8aA?\u0005Ow@>\u001c",
      ".\u001d",
      "\u001bYdQCiY\u0011d\u0016&dw!\u0017>AqJ@\u0006I;:||ZL\u001f\u001fOx\u001bNg_\u0000\u0000\u0000\u0003\u0000PK\u0003\u0004\u0014\u0000\u0006\u0000\b\u0000\u0000\u0000!\u0000R\u001bq\u0001\u0000\u0000\u0002\u0000\u0000\u0010\u0000\b\u0001docProps/app.xml \u0004\u0001(\u0000\u0001\u0000\u0000\u0000\u0000\u0000\u0000\u0000\u0000\u0000\u0000\u0000\u0000\u0000\u0000\u0000\u0000\u0000\u0000\u0000\u0000\u0000\u0000\u0000\u0000\u0000\u0000\u0000\u0000\u0000\u0000\u0000\u0000\u0000\u0000\u0000\u0000\u0000\u0000\u0000\u0000\u0000\u0000\u0000\u0000\u0000\u0000\u0000\u0000\u0000\u0000\u0000\u0000\u0000\u0000\u0000\u0000\u0000\u0000\u0000\u0000\u0000\u0000\u0000\u0000\u0000\u0000\u0000\u0000\u0000\u0000\u0000\u0000\u0000\u0000\u0000\u0000\u0000\u0000\u0000\u0000\u0000\u0000\u0000\u0000\u0000\u0000\u0000\u0000\u0000\u0000\u0000\u0000\u0000\u0000\u0000\u0000\u0000\u0000\u0000\u0000\u0000\u0000\u0000\u0000\u0000\u0000\u0000\u0000\u0000\u0000\u0000\u0000\u0000\u0000\u0000\u0000\u0000\u0000\u0000\u0000\u0000\u0000\u0000\u0000\u0000\u0000\u0000\u0000\u0000\u0000\u0000\u0000\u0000\u0000\u0000\u0000\u0000\u0000\u0000\u0000\u0000\u0000\u0000\u0000\u0000\u0000\u0000\u0000\u0000\u0000\u0000\u0000\u0000\u0000\u0000\u0000\u0000\u0000\u0000\u0000\u0000\u0000\u0000\u0000\u0000\u0000\u0000\u0000\u0000\u0000\u0000\u0000\u0000\u0000\u0000\u0000\u0000\u0000\u0000\u0000\u0000\u0000\u0000\u0000\u0000\u0000\u0000\u0000\u0000\u0000\u0000\u0000\u0000\u0000\u0000\u0000\u0000\u0000\u0000\u0000\u0000\u0000\u0000\u0000\u0000\u0000\u0000\u0000\u0000\u0000\u0000\u0000\u0000\u0000\u0000\u0000\u0000\u0000\u0000\u0000\u0000\u0000\u0000\u0000\u0000\u0000\u0000\u0000\u0000\u0000\u0000\u0000\u0000\u0000\u0000\u0000\u0000\u0000\u0000\u0000\u0000\u0000\u0000\u0000\u0000\u0000\u0000\u0000\u0000\u0000\u0000\u0000\u0000\u0000\u0000\u0000RN0\u0010#\u000fQ)\u0014\u0011j87c[[@\bFN;psL\u0010e>\u0015yV:mS:b\u0012V\t,\u0011c~OO%8!i\u0019IXmJ~X-v\"mSD04vrM(\u0018\u001e",
      "\u0012Z*'{:zPaHI3S.uF\u0016*t|N\bE4\u0018{n(\u0005E\u00006TjE\u00102\u0002%\t[\"fEWn\u0003\u001e",
      "\u0001A\u000b",
      ":\u001d",
      "9]0c(W\u0010M\u001027\"HapEy-LD`?\u0004\\%96V\u001e",
      "r~\u000f_#I7\u0017,,\u0016\u0006lEEG\u0007#\u0001?i6m{\u001d",
      "\u001e",
      "&_\n",
      ">\u0017Q\u000f\u0000\u0000\u0000\u0003\u0000PK\u0003\u0004\u0014\u0000\u0006\u0000\b\u0000\u0000\u0000!\u0000\u0005\u000e\u0001\u0000\u0000\u0001\u0000\u0000\u0013\u0000\b\u0001docProps/custom.xml \u0004\u0001(\u0000\u0001\u0000\u0000\u0000\u0000\u0000\u0000\u0000\u0000\u0000\u0000\u0000\u0000\u0000\u0000\u0000\u0000\u0000\u0000\u0000\u0000\u0000\u0000\u0000\u0000\u0000\u0000\u0000\u0000\u0000\u0000\u0000\u0000\u0000\u0000\u0000\u0000\u0000\u0000\u0000\u0000\u0000\u0000\u0000\u0000\u0000\u0000\u0000\u0000\u0000\u0000\u0000\u0000\u0000\u0000\u0000\u0000\u0000\u0000\u0000\u0000\u0000\u0000\u0000\u0000\u0000\u0000\u0000\u0000\u0000\u0000\u0000\u0000\u0000\u0000\u0000\u0000\u0000\u0000\u0000\u0000\u0000\u0000\u0000\u0000\u0000\u0000\u0000\u0000\u0000\u0000\u0000\u0000\u0000\u0000\u0000\u0000\u0000\u0000\u0000\u0000\u0000\u0000\u0000\u0000\u0000\u0000\u0000\u0000\u0000\u0000\u0000\u0000\u0000\u0000\u0000\u0000\u0000\u0000\u0000\u0000\u0000\u0000\u0000\u0000\u0000\u0000\u0000\u0000\u0000\u0000\u0000\u0000\u0000\u0000\u0000\u0000\u0000\u0000\u0000\u0000\u0000\u0000\u0000\u0000\u0000\u0000\u0000\u0000\u0000\u0000\u0000\u0000\u0000\u0000\u0000\u0000\u0000\u0000\u0000\u0000\u0000\u0000\u0000\u0000\u0000\u0000\u0000\u0000\u0000\u0000\u0000\u0000\u0000\u0000\u0000\u0000\u0000\u0000\u0000\u0000\u0000\u0000\u0000\u0000\u0000\u0000\u0000\u0000\u0000\u0000\u0000\u0000\u0000\u0000\u0000\u0000\u0000\u0000\u0000\u0000\u0000\u0000\u0000\u0000\u0000\u0000\u0000\u0000\u0000\u0000\u0000\u0000\u0000\u0000\u0000\u0000\u0000\u0000\u0000\u0000\u0000\u0000\u0000\u0000\u0000\u0000\u0000\u0000\u0000\u0000\u0000\u0000\u0000\u0000\u0000\u0000\u0000\u0000\u0000\u0000\u0000\u0000\u0000\u0000\u0000\u0000\u0000\u0000\u0000\u0000\u0000\u0000\u0000\u0000\u0000\u0000N0\u0010DHk!m\u001c",
      "%h\"n\u001c",
      "\n",
      "wc;ml7\u0010!\u001d",
      "WmW3z;S\u000f`RT0Y\u0010\b\u0011VP\u000e\u00105p]/^y\u0010\u0011W\u0018X`Qi\u0017Q6Q<\u001d",
      "^V&`J\u0012\u000fVb\n",
      "EJ+~\u001e",
      "#.3te\u0005idnY\u0012l\u0010K\n",
      "\u0010=n!\u0018f\n",
      ":Vr\\krYF\u0014a9$E\u0019\u0012=PI\u0010{_R2.Jf\u0012%\u000f\u0000\u0000\u0000\u0003\u0000PK\u0001\u0002-\u0000\u0014\u0000\u0006\u0000\b\u0000\u0000\u0000!\u0000d-e\u0001\u0000\u0000\u0005\u0000\u0000\u0013\u0000\u0000\u0000\u0000\u0000\u0000\u0000\u0000\u0000\u0000\u0000\u0000\u0000\u0000\u0000\u0000\u0000[Content_Types].xmlPK\u0001\u0002-\u0000\u0014\u0000\u0006\u0000\b\u0000\u0000\u0000!\u0000U~\u0005\u0000\u0000\u0000\u0002\u0000\u0000\u000b",
      "\u0000\u0000\u0000\u0000\u0000\u0000\u0000\u0000\u0000\u0000\u0000\u0000\u0000\u0003\u0000\u0000_rels/.relsPK\u0001\u0002-\u0000\u0014\u0000\u0006\u0000\b\u0000\u0000\u0000!\u00007/\u0003\u0000\u0000\u0017\f",
      "\u0000\u0000\u0011\u0000\u0000\u0000\u0000\u0000\u0000\u0000\u0000\u0000\u0000\u0000\u0000\u0000\u0006\u0000\u0000word/document.xmlPK\u0001\u0002-\u0000\u0014\u0000\u0006\u0000\b\u0000\u0000\u0000!\u0000dQ\u0000\u0000\u00001\u0003\u0000\u0000\u001c",
      "\u0000\u0000\u0000\u0000\u0000\u0000\u0000\u0000\u0000\u0000\u0000\u0000\u0000+\n",
      "\u0000\u0000word/_rels/document.xml.relsPK\u0001\u0002-\u0000\u0014\u0000\u0006\u0000\b\u0000\u0000\u0000!\u0000g\u0006\u0000\u0000 \u0000\u0000\u0015\u0000\u0000\u0000\u0000\u0000\u0000\u0000\u0000\u0000\u0000\u0000\u0000\u0000a\f",
      "\u0000\u0000word/theme/theme1.xmlPK\u0001\u0002-\u0000\u0014\u0000\u0006\u0000\b\u0000\u0000\u0000!\u0000C`\u0004\u0000\u0000\f",
      "\u0000\u0000\u0011\u0000\u0000\u0000\u0000\u0000\u0000\u0000\u0000\u0000\u0000\u0000\u0000\u0000b\u0013\u0000\u0000word/settings.xmlPK\u0001\u0002-\u0000\u0014\u0000\u0006\u0000\b\u0000\u0000\u0000!\u0000\u0004W/\u0007\u0010\u0000\u0000\u0000\u0000\u000f\u0000\u0000\u0000\u0000\u0000\u0000\u0000\u0000\u0000\u0000\u0000\u0000\u0000\u0017\u0000\u0000word/styles.xmlPK\u0001\u0002-\u0000\u0014\u0000\u0006\u0000\b\u0000\u0000\u0000!\u0000~vb^\u0001\u0000\u0000\u0003\u0000\u0000\u0014\u0000\u0000\u0000\u0000\u0000\u0000\u0000\u0000\u0000\u0000\u0000\u0000\u0000%(\u0000\u0000word/webSettings.xmlPK\u0001\u0002-\u0000\u0014\u0000\u0006\u0000\b\u0000\u0000\u0000!\u0000w^\u0002\u0000\u0000\b\u0000\u0000\u0012\u0000\u0000\u0000\u0000\u0000\u0000\u0000\u0000\u0000\u0000\u0000\u0000\u0000)\u0000\u0000word/fontTable.xmlPK\u0001\u0002-\u0000\u0014\u0000\u0006\u0000\b\u0000\u0000\u0000!\u0000p+}\u0001\u0000\u0000.\u0003\u0000\u0000\u0011\u0000\u0000\u0000\u0000\u0000\u0000\u0000\u0000\u0000\u0000\u0000\u0000\u0000C,\u0000\u0000docProps/core.xmlPK\u0001\u0002-\u0000\u0014\u0000\u0006\u0000\b\u0000\u0000\u0000!\u0000R\u001bq\u0001\u0000\u0000\u0002\u0000\u0000\u0010\u0000\u0000\u0000\u0000\u0000\u0000\u0000\u0000\u0000\u0000\u0000\u0000\u0000.\u0000\u0000docProps/app.xmlPK\u0001\u0002-\u0000\u0014\u0000\u0006\u0000\b\u0000\u0000\u0000!\u0000\u0005\u000e\u0001\u0000\u0000\u0001\u0000\u0000\u0013\u0000\u0000\u0000\u0000\u0000\u0000\u0000\u0000\u0000\u0000\u0000\u0000\u00001\u0000\u0000docProps/custom.xmlPK\u0005\u0006\u0000\u0000\u0000\u0000\f",
      "\u0000\f",
      "\u0000\u0002\u0003\u0000\u00003\u0000\u0000\u0000\u0000\n"
     ]
    }
   ],
   "source": [
    "# Open a Word document and read its raw binary contents\n",
    "with open('word.docx', 'rb') as file:\n",
    "    content = file.read()\n",
    "    # Convert bytes to string \n",
    "    #(assuming the text is ASCII encoded)\n",
    "    text = content.decode('ascii', errors='ignore')\n",
    "    print(text)\n"
   ]
  },
  {
   "cell_type": "code",
   "execution_count": 4,
   "metadata": {
    "colab": {
     "base_uri": "https://localhost:8080/"
    },
    "executionInfo": {
     "elapsed": 402,
     "status": "ok",
     "timestamp": 1719844188003,
     "user": {
      "displayName": "Bhargavi",
      "userId": "01018671556535394490"
     },
     "user_tz": -330
    },
    "id": "ExYkXEU_l8DW",
    "outputId": "6a451fc9-a163-4113-c31e-dd115d02ea7e"
   },
   "outputs": [
    {
     "name": "stdout",
     "output_type": "stream",
     "text": [
      "                                             content  \\\n",
      "0  The weather was beautiful. I went for a walk i...   \n",
      "\n",
      "                                     cleaned_content  \n",
      "0  weather beautiful went walk park sunny day bir...  \n"
     ]
    }
   ],
   "source": [
    "#2.Perform text pre - processing on a given corpus without using any pre -defined NLP packages.\n",
    "\n",
    "import pandas as pd\n",
    "import re\n",
    "\n",
    "# Sample data creation (replace this with your actual data loading logic)\n",
    "data = {'content': [\"The weather was beautiful. I went for a walk in the park. It was a sunny day, and the birds were chirping happily. Suddenly, a black cat crossed my path. I stopped and watched it disappear into the bushes. After that, I continued my stroll, enjoying the tranquility of nature.\"]}\n",
    "df = pd.DataFrame(data)\n",
    "\n",
    "def clean_text(text):\n",
    "    # Remove non-alphabetic characters\n",
    "    text = re.sub(r'[^A-Za-z\\s]', '', text)\n",
    "    # Convert to lowercase\n",
    "    text = text.lower()\n",
    "    # Tokenize\n",
    "    tokens = text.split()\n",
    "    # Remove stopwords\n",
    "    stop_words = set([\"is\", \"an\", \"the\", \"this\", \"another\", \"i\", \"it\", \"was\", \"in\", \"for\", \"a\", \"and\", \"of\", \"my\"]) # Add more as needed\n",
    "    tokens = [word for word in tokens if word not in stop_words]\n",
    "    # Stemming (using a simple example)\n",
    "    tokens = [word[:-1] if word.endswith('s') else word for word in tokens]\n",
    "    # Lemmatization (using a simple example)\n",
    "    tokens = [word[:-1] if word.endswith('s') else word for word in tokens]\n",
    "    return ' '.join(tokens)\n",
    "\n",
    "# Apply the cleaning function to the DataFrame\n",
    "df['cleaned_content'] = df['content'].apply(clean_text)\n",
    "\n",
    "# Print the resulting DataFrame\n",
    "print(df)\n"
   ]
  },
  {
   "cell_type": "code",
   "execution_count": 5,
   "metadata": {
    "colab": {
     "base_uri": "https://localhost:8080/"
    },
    "executionInfo": {
     "elapsed": 380,
     "status": "ok",
     "timestamp": 1719845080130,
     "user": {
      "displayName": "Bhargavi",
      "userId": "01018671556535394490"
     },
     "user_tz": -330
    },
    "id": "QVnBY71mrRko",
    "outputId": "cc101092-63de-47dd-cc2d-b5004d870ef5"
   },
   "outputs": [
    {
     "name": "stdout",
     "output_type": "stream",
     "text": [
      "               cleaned_content                                         bigrams\n",
      "0  this is an example sentence  [this is, is an, an example, example sentence]\n",
      "1     another example sentence             [another example, example sentence]\n"
     ]
    }
   ],
   "source": [
    "#3.)Implement N -Gram model in python without using any predefined NLPpackages. Note: use corpus of your own choice.\n",
    "import pandas as pd\n",
    "\n",
    "# Sample data creation\n",
    "data = {'cleaned_content': [\"this is an example sentence\", \"another example sentence\"]}\n",
    "df = pd.DataFrame(data)\n",
    "\n",
    "# Function to generate n-grams\n",
    "def generate_ngrams(text, n):\n",
    "    tokens = text.split()\n",
    "    ngrams_list = [' '.join(tokens[i:i+n]) for i in range(len(tokens)-n+1)]\n",
    "    return ngrams_list\n",
    "\n",
    "# Apply the function to generate bigrams\n",
    "df['bigrams'] = df['cleaned_content'].apply(generate_ngrams, n=2)\n",
    "\n",
    "# Print the dataframe\n",
    "print(df)\n"
   ]
  },
  {
   "cell_type": "code",
   "execution_count": 6,
   "metadata": {
    "colab": {
     "base_uri": "https://localhost:8080/"
    },
    "executionInfo": {
     "elapsed": 698,
     "status": "ok",
     "timestamp": 1719845440065,
     "user": {
      "displayName": "Bhargavi",
      "userId": "01018671556535394490"
     },
     "user_tz": -330
    },
    "id": "ONNWqNJ6wUhd",
    "outputId": "0ef17f16-7fb0-4c0b-bdb0-c1b0e1dee667"
   },
   "outputs": [
    {
     "name": "stdout",
     "output_type": "stream",
     "text": [
      "                                     cleaned_content  \\\n",
      "0  The cat chased the mouse around the house. Bir...   \n",
      "\n",
      "                                            pos_tags  \n",
      "0  [(The, Noun), (cat, Noun), (chased, Noun), (th...  \n"
     ]
    }
   ],
   "source": [
    "#4. Implement Part-of-Speech (POS) Tagging.\n",
    "# \"The cat chased the mouse around the house. Birds sang in the trees while the\n",
    "# sun shone brightly in the sky. A group of children played happily in the park,\n",
    "# laughing and running around.”\n",
    "\n",
    "import pandas as pd\n",
    "\n",
    "# Sample data creation with provided text\n",
    "data = {'cleaned_content': [\n",
    "    \"The cat chased the mouse around the house. Birds sang in the trees while the sun shone brightly in the sky. A group of children played happily in the park, laughing and running around.\"\n",
    "]}\n",
    "df = pd.DataFrame(data)\n",
    "\n",
    "# Function to generate simple POS tags (Noun, Verb, Adverb)\n",
    "def simple_pos_tagging(text):\n",
    "    tokens = text.split()\n",
    "    pos_tags = []\n",
    "    for token in tokens:\n",
    "        if token.endswith('ing'):\n",
    "            pos_tags.append((token, 'Verb'))\n",
    "        elif token.endswith('ly'):\n",
    "            pos_tags.append((token, 'Adverb'))\n",
    "        else:\n",
    "            pos_tags.append((token, 'Noun'))\n",
    "    return pos_tags\n",
    "\n",
    "# Apply the function to generate POS tags\n",
    "df['pos_tags'] = df['cleaned_content'].apply(simple_pos_tagging)\n",
    "\n",
    "# Print the dataframe\n",
    "print(df)\n"
   ]
  },
  {
   "cell_type": "code",
   "execution_count": 7,
   "metadata": {
    "colab": {
     "base_uri": "https://localhost:8080/"
    },
    "executionInfo": {
     "elapsed": 391,
     "status": "ok",
     "timestamp": 1719845562915,
     "user": {
      "displayName": "Bhargavi",
      "userId": "01018671556535394490"
     },
     "user_tz": -330
    },
    "id": "b669Q4M0wyWo",
    "outputId": "055d2aca-01c0-4633-f09e-28627d399f43"
   },
   "outputs": [
    {
     "name": "stdout",
     "output_type": "stream",
     "text": [
      "                                            POS_tags  \\\n",
      "0  [(this, Noun), (is, Noun), (an, Noun), (exampl...   \n",
      "1  [(another, Noun), (example, Noun), (sentence, ...   \n",
      "\n",
      "                    noun_phrases  \n",
      "0  [this is an example sentence]  \n",
      "1     [another example sentence]  \n"
     ]
    }
   ],
   "source": [
    "#5.Implement chunking to extract Noun Phrases.\n",
    "import pandas as pd\n",
    "\n",
    "# Sample data creation\n",
    "data = {\n",
    "    'POS_tags': [\n",
    "        [('this', 'Noun'), ('is', 'Noun'), ('an', 'Noun'), ('example', 'Noun'), ('sentence', 'Noun')],\n",
    "        [('another', 'Noun'), ('example', 'Noun'), ('sentence', 'Noun')]\n",
    "    ]\n",
    "}\n",
    "df = pd.DataFrame(data)\n",
    "\n",
    "# Function to perform simple noun phrase chunking\n",
    "def simple_noun_phrase_chunking(pos_tags):\n",
    "    noun_phrases = []\n",
    "    current_phrase = []\n",
    "    for token, tag in pos_tags:\n",
    "        if tag in ['Noun', 'Adjective']:\n",
    "            current_phrase.append(token)\n",
    "        elif current_phrase:\n",
    "            noun_phrases.append(' '.join(current_phrase))\n",
    "            current_phrase = []\n",
    "    if current_phrase:\n",
    "        noun_phrases.append(' '.join(current_phrase))\n",
    "    return noun_phrases\n",
    "\n",
    "# Apply the function to generate noun phrases\n",
    "df['noun_phrases'] = df['POS_tags'].apply(simple_noun_phrase_chunking)\n",
    "\n",
    "# Print the dataframe\n",
    "print(df)\n"
   ]
  },
  {
   "cell_type": "code",
   "execution_count": 8,
   "metadata": {
    "colab": {
     "base_uri": "https://localhost:8080/"
    },
    "executionInfo": {
     "elapsed": 414,
     "status": "ok",
     "timestamp": 1719845695581,
     "user": {
      "displayName": "Bhargavi",
      "userId": "01018671556535394490"
     },
     "user_tz": -330
    },
    "id": "AKFg-neKyKZF",
    "outputId": "9f839930-a19d-4013-cf1e-1450434881a9"
   },
   "outputs": [
    {
     "name": "stdout",
     "output_type": "stream",
     "text": [
      "Possible Completions:\n",
      "- After a long day at work, I like to relax by watching my favorite TV show\n",
      "- After a long day at work, I like to relax by going for a walk\n",
      "- After a long day at work, I like to relax by reading a book\n",
      "- After a long day at work, I like to relax by listening to music\n"
     ]
    }
   ],
   "source": [
    "#6.Sentence completion with words or phrases using random prompts.\n",
    "import random\n",
    "\n",
    "# Dictionary with sentence prompts and possible completions\n",
    "sentence_prompts = {\n",
    "    \"She opened the door and saw a\": [\"beautiful garden\", \"mysterious figure\", \"bright light\"],\n",
    "    \"After a long day at work, I like to relax by\": [\"watching my favorite TV show\", \"going for a walk\", \"reading a book\"]\n",
    "}\n",
    "\n",
    "input_prompt = \"After a long day at work, I like to relax by\"\n",
    "\n",
    "if input_prompt in sentence_prompts:\n",
    "    possible_completions = sentence_prompts[input_prompt]\n",
    "    print(\"Possible Completions:\")\n",
    "    for completion in possible_completions:\n",
    "        print(f\"- {input_prompt} {completion}\")\n",
    "else:\n",
    "    print(\"Prompt not found in the dictionary.\")\n",
    "\n",
    "# Use random to create a random sentence completion\n",
    "random_completion = random.choice([\"enjoying a cup of tea\", \"listening to music\", \"playing video games\"])\n",
    "print(f\"- {input_prompt} {random_completion}\")\n"
   ]
  },
  {
   "cell_type": "code",
   "execution_count": 9,
   "metadata": {
    "colab": {
     "base_uri": "https://localhost:8080/"
    },
    "executionInfo": {
     "elapsed": 622,
     "status": "ok",
     "timestamp": 1719845848665,
     "user": {
      "displayName": "Bhargavi",
      "userId": "01018671556535394490"
     },
     "user_tz": -330
    },
    "id": "dK5emKFiyqxN",
    "outputId": "43d84f9a-9ecf-4ef0-b5b2-57d8a6bdc8a9"
   },
   "outputs": [
    {
     "name": "stdout",
     "output_type": "stream",
     "text": [
      "Text: I love this product!\n",
      "Label: positive\n",
      "\n",
      "Text: It's terrible.\n",
      "Label: negative\n",
      "\n",
      "Text: Neutral statement.\n",
      "Label: neutral\n",
      "\n"
     ]
    }
   ],
   "source": [
    "#7.Implement machine learning sentiment classification without using any pre defined NLP packages:\n",
    "'''Training Corpus:\n",
    "(\"I love this product\", \"positive\"),\n",
    "(\"This is excellent\", \"positive\"),\n",
    "(\"Terrible service\", \"negative\"),\n",
    "(\"It's okay, not great\", \"neutral\"),\n",
    "(\"Amazing experience\", \"positive\"),\n",
    "(\"Disappointing outcome\", \"negative\"),\n",
    "(\"Neutral feelings\", \"neutral\"),\n",
    "(\"I dislike it\", \"negative\")'''\n",
    "\n",
    "# Sample data\n",
    "data = [\"I love this product!\", \"It's terrible.\", \"Neutral statement.\"]\n",
    "\n",
    "# Training corpus\n",
    "training_corpus = [\n",
    "    (\"I love this product\", \"positive\"),\n",
    "    (\"This is excellent\", \"positive\"),\n",
    "    (\"Terrible service\", \"negative\"),\n",
    "    (\"It's okay, not great\", \"neutral\"),\n",
    "    (\"Amazing experience\", \"positive\"),\n",
    "    (\"Disappointing outcome\", \"negative\"),\n",
    "    (\"Neutral feelings\", \"neutral\"),\n",
    "    (\"I dislike it\", \"negative\")\n",
    "]\n",
    "\n",
    "# Function to determine sentiment label\n",
    "def determine_sentiment_label(text):\n",
    "    # Check using predefined keywords\n",
    "    if \"love\" in text.lower():\n",
    "        return 'positive'\n",
    "    elif \"terrible\" in text.lower():\n",
    "        return 'negative'\n",
    "    else:\n",
    "        # Check using the training corpus\n",
    "        for corpus_text, label in training_corpus:\n",
    "            if corpus_text.lower() in text.lower():\n",
    "                return label\n",
    "        # Default to neutral if no match found\n",
    "        return 'neutral'\n",
    "\n",
    "# Create result dictionary\n",
    "result_dict = {'text': data, 'label': [determine_sentiment_label(text) for text in data]}\n",
    "\n",
    "# Print results\n",
    "for text, label in zip(result_dict['text'], result_dict['label']):\n",
    "    print(f\"Text: {text}\")\n",
    "    print(f\"Label: {label}\")\n",
    "    print()\n"
   ]
  },
  {
   "cell_type": "code",
   "execution_count": 10,
   "metadata": {
    "colab": {
     "base_uri": "https://localhost:8080/"
    },
    "executionInfo": {
     "elapsed": 397,
     "status": "ok",
     "timestamp": 1719845891206,
     "user": {
      "displayName": "Bhargavi",
      "userId": "01018671556535394490"
     },
     "user_tz": -330
    },
    "id": "tM0hpvyfzQGQ",
    "outputId": "67832240-eeb4-4c59-c176-6fba456a25ff"
   },
   "outputs": [
    {
     "name": "stdout",
     "output_type": "stream",
     "text": [
      "Text: I love this product!\n",
      "Label: positive\n",
      "\n",
      "Text: It's terrible.\n",
      "Label: negative\n",
      "\n",
      "Text: Neutral statement.\n",
      "Label: neutral\n",
      "\n"
     ]
    }
   ],
   "source": [
    "#or 7b.\n",
    "data = [\"I love this product!\", \"It's terrible.\", \"Neutral statement.\"]\n",
    "\n",
    "def determine_sentiment_label(text):\n",
    "    if \"love\" in text.lower():\n",
    "        return 'positive'\n",
    "    elif \"terrible\" in text.lower():\n",
    "        return 'negative'\n",
    "    else:\n",
    "        return 'neutral'\n",
    "\n",
    "result_dict = {'text': data, 'label': [determine_sentiment_label(text) for text in data]}\n",
    "\n",
    "for text, label in zip(result_dict['text'], result_dict['label']):\n",
    "    print(f\"Text: {text}\")\n",
    "    print(f\"Label: {label}\")\n",
    "    print()\n"
   ]
  },
  {
   "cell_type": "code",
   "execution_count": 11,
   "metadata": {
    "colab": {
     "base_uri": "https://localhost:8080/"
    },
    "executionInfo": {
     "elapsed": 407,
     "status": "ok",
     "timestamp": 1719846105997,
     "user": {
      "displayName": "Bhargavi",
      "userId": "01018671556535394490"
     },
     "user_tz": -330
    },
    "id": "5_BLyWQmzah8",
    "outputId": "c3aa4252-26fe-4494-a3c5-49b25cb374cb"
   },
   "outputs": [
    {
     "name": "stdout",
     "output_type": "stream",
     "text": [
      "Article Summary:\n",
      "By integrating advanced\n",
      " natural language processing (NLP) techniques and machine learning algorithms, the project aims to develop a robust sentiment analysis\n",
      "  framework capable of delivering accurate insights across diverse platforms. Ultimately,\n",
      "    these advancements are expected to empower businesses, marketers, and researchers with more reliable tools for making informed\n",
      "     decisions based on a deeper understanding of public sentiment and emotional trends. This project aims to enhance sentiment analysis by addressing critical challenges such as interpreting\n",
      " figurative language, including sarcasm and irony, which often confound existing models\n"
     ]
    }
   ],
   "source": [
    "#8.Text Summarization (Extractive and Abstractive)\n",
    "def simple_summarization(article, num_sentences=3):\n",
    "    sentences = article.split(\".\")\n",
    "    # Remove empty strings and strip leading/trailing whitespace\n",
    "    sentences = [s.strip() for s in sentences if s.strip()]\n",
    "\n",
    "    # Calculate the importance score for each sentence (based on sentence length)\n",
    "    scores = [len(sentence) for sentence in sentences]\n",
    "\n",
    "    # Select the top N sentences with the highest importance scores\n",
    "    selected_sentences = sorted(zip(sentences, scores), key=lambda x: x[1], reverse=True)[:num_sentences]\n",
    "\n",
    "    # Extract the selected sentences\n",
    "    summary = [sentence for sentence, _ in selected_sentences]\n",
    "\n",
    "    # Join the selected sentences into a summary paragraph\n",
    "    return '. '.join(summary)\n",
    "\n",
    "# Example usage\n",
    "article_text = \"\"\"\n",
    "Sentiment analysis is increasingly vital in modern data-driven contexts, providing crucial insights into public opinion and emotional\n",
    " trends from vast textual datasets. This project aims to enhance sentiment analysis by addressing critical challenges such as interpreting\n",
    " figurative language, including sarcasm and irony, which often confound existing models. Furthermore, the project seeks to expand the scope\n",
    " of emotional analysis beyond traditional categories, aiming for a more nuanced understanding of human emotions. By integrating advanced\n",
    " natural language processing (NLP) techniques and machine learning algorithms, the project aims to develop a robust sentiment analysis\n",
    "  framework capable of delivering accurate insights across diverse platforms. Emphasis is placed on understanding platform-specific\n",
    "   sentiment dynamics to ensure consistent and relevant analyses across different social media and digital platforms. Ultimately,\n",
    "    these advancements are expected to empower businesses, marketers, and researchers with more reliable tools for making informed\n",
    "     decisions based on a deeper understanding of public sentiment and emotional trends.\n",
    "\"\"\"\n",
    "\n",
    "# Generate a summary of the article\n",
    "summary = simple_summarization(article_text)\n",
    "print(\"Article Summary:\")\n",
    "print(summary)\n"
   ]
  },
  {
   "cell_type": "code",
   "execution_count": 12,
   "metadata": {
    "colab": {
     "base_uri": "https://localhost:8080/"
    },
    "executionInfo": {
     "elapsed": 431,
     "status": "ok",
     "timestamp": 1719846310688,
     "user": {
      "displayName": "Bhargavi",
      "userId": "01018671556535394490"
     },
     "user_tz": -330
    },
    "id": "9veiGPRCz34i",
    "outputId": "35a5c7a1-2164-4ff0-8c8f-c9cd825eeadb"
   },
   "outputs": [
    {
     "name": "stdout",
     "output_type": "stream",
     "text": [
      "Person List: ['John Smith', 'Elon Musk']\n",
      "Place List: ['France', 'Paris', 'Tokyo', 'Shibuya Crossing']\n"
     ]
    }
   ],
   "source": [
    "#9.Perform Name Entity Recognition (NER) on given corpus text.\n",
    "'''The capital of [France] is [Paris], a city known for its iconic [Eiffel Tower].\n",
    "[John Smith] visited [Tokyo] last summer, exploring the bustling streets of\n",
    "[Shibuya Crossing]. [May 5th, 2023] marks the anniversary of a significant\n",
    "event in [history]. [Elon Musk] is the CEO of [SpaceX] and [Tesla].'''\n",
    "import re\n",
    "\n",
    "# Corpus text\n",
    "corpus_text = \"The capital of [France] is [Paris], a city known for its iconic [Eiffel Tower]. [John Smith] visited [Tokyo] last summer, exploring the bustling streets of [Shibuya Crossing]. [May 5th, 2023] marks the anniversary of a significant event in [history]. [Elon Musk] is the CEO of [SpaceX] and [Tesla].\"\n",
    "\n",
    "# Initialize lists\n",
    "person_list = []\n",
    "place_list = []\n",
    "\n",
    "# Define regex pattern to find entities in brackets\n",
    "pattern = r'\\[(.*?)\\]'\n",
    "\n",
    "# Find all matches in the corpus text\n",
    "matches = re.findall(pattern, corpus_text)\n",
    "\n",
    "# Extract entities and populate lists\n",
    "for entity in matches:\n",
    "    if any(name in entity for name in [\"Barack Obama\", \"John Smith\", \"Elon Musk\"]):\n",
    "        person_list.append(entity)\n",
    "    elif any(place in entity for place in [\"Hawaii\", \"United States\", \"France\", \"Paris\", \"Tokyo\", \"Shibuya Crossing\"]):\n",
    "        place_list.append(entity)\n",
    "\n",
    "# Print the lists\n",
    "print(\"Person List:\", person_list)\n",
    "print(\"Place List:\", place_list)\n",
    "\n"
   ]
  },
  {
   "cell_type": "code",
   "execution_count": 13,
   "metadata": {
    "colab": {
     "base_uri": "https://localhost:8080/"
    },
    "executionInfo": {
     "elapsed": 426,
     "status": "ok",
     "timestamp": 1719846490939,
     "user": {
      "displayName": "Bhargavi",
      "userId": "01018671556535394490"
     },
     "user_tz": -330
    },
    "id": "SGZMfOzI1A8N",
    "outputId": "01774046-ca9c-4b8d-fddf-88508035278f"
   },
   "outputs": [
    {
     "name": "stdout",
     "output_type": "stream",
     "text": [
      "Original words: ['The', 'quick', 'brown', 'foxes', 'jumped', 'over', 'the', 'lazy', 'dogs.', \"Mary's\", 'cat', 'is', 'playing', 'with', 'a', 'ball.', 'Running', 'swiftly,', 'the', 'athlete', 'won', 'the', 'race.', 'The', 'painted', 'houses', 'lined', 'the', 'street,', 'attracting', 'curious', 'onlookers.']\n",
      "Stemmed words: ['The', 'quick', 'brown', 'fox', 'jumped', 'over', 'the', 'lazy', 'dogs.', \"Mary'\", 'cat', 'i', 'play', 'with', 'a', 'ball.', 'Runn', 'swiftly,', 'the', 'athlete', 'won', 'the', 'race.', 'The', 'painted', 'hous', 'lined', 'the', 'street,', 'attract', 'curiou', 'onlookers.']\n",
      "Lemmatized words: ['The', 'quick', 'brown', 'fox', 'jumped', 'over', 'the', 'lazy', 'dogs.', \"Mary'\", 'cat', 'i', 'play', 'with', 'a', 'ball.', 'Runn', 'swiftly,', 'the', 'athlete', 'won', 'the', 'race.', 'The', 'painted', 'hous', 'lined', 'the', 'street,', 'attract', 'curiou', 'onlookers.']\n",
      "\n",
      "Word: misunderstanding\n",
      "Morphemes: ['mis', 'understand', 'ing']\n"
     ]
    }
   ],
   "source": [
    "#10.Perform Morphological analysis without using any pre defined NLP packages\n",
    "'''The text corpus given below :\n",
    "The quick brown foxes jumped over the lazy dogs. Mary's cat is playing with\n",
    "a ball. Running swiftly, the athlete won the race. The painted houses lined the\n",
    "street, attracting curious onlookers.'''\n",
    "\n",
    "# Tokenizer function\n",
    "def simple_tokenizer(text):\n",
    "    return text.split()\n",
    "\n",
    "# Stemming function\n",
    "def simple_porter_stemmer(word):\n",
    "    # A simple stemming function (for illustration purposes)\n",
    "    if word.endswith(\"es\"):\n",
    "        return word[:-2]\n",
    "    elif word.endswith(\"s\"):\n",
    "        return word[:-1]\n",
    "    elif word.endswith(\"ing\"):\n",
    "        return word[:-3]\n",
    "    return word\n",
    "\n",
    "# Lemmatization function\n",
    "def simple_wordnet_lemmatizer(word):\n",
    "    # A simple lemmatization function (for illustration purposes)\n",
    "    if word.endswith(\"es\"):\n",
    "        return word[:-2]\n",
    "    elif word.endswith(\"s\"):\n",
    "        return word[:-1]\n",
    "    elif word.endswith(\"ing\"):\n",
    "        return word[:-3]\n",
    "    return word\n",
    "\n",
    "# Function to analyze morphemes\n",
    "def analyze_morphemes(word, prefixes, root, suffixes):\n",
    "    morphemes = []\n",
    "    for prefix in prefixes:\n",
    "        if word.startswith(prefix):\n",
    "            morphemes.append(prefix)\n",
    "            word = word[len(prefix):]\n",
    "    morphemes.append(root)\n",
    "    for suffix in suffixes:\n",
    "        if word.endswith(suffix):\n",
    "            morphemes.append(suffix)\n",
    "            word = word[:-len(suffix)]\n",
    "    return morphemes\n",
    "\n",
    "# Text corpus\n",
    "text = \"\"\"The quick brown foxes jumped over the lazy dogs. Mary's cat is playing with\n",
    "a ball. Running swiftly, the athlete won the race. The painted houses lined the\n",
    "street, attracting curious onlookers.\"\"\"\n",
    "\n",
    "# Tokenize the text into words\n",
    "words = simple_tokenizer(text)\n",
    "\n",
    "# Apply stemming and lemmatization\n",
    "stemmed_words = [simple_porter_stemmer(word) for word in words]\n",
    "lemmatized_words = [simple_wordnet_lemmatizer(word) for word in words]\n",
    "\n",
    "# Print original, stemmed, and lemmatized words\n",
    "print(\"Original words:\", words)\n",
    "print(\"Stemmed words:\", stemmed_words)\n",
    "print(\"Lemmatized words:\", lemmatized_words)\n",
    "print()\n",
    "\n",
    "# Morpheme analysis example\n",
    "word = \"misunderstanding\"\n",
    "prefixes = [\"mis\"]\n",
    "root = \"understand\"\n",
    "suffixes = [\"ing\"]\n",
    "morphemes = analyze_morphemes(word, prefixes, root, suffixes)\n",
    "\n",
    "# Print morphemes\n",
    "print(\"Word:\", word)\n",
    "print(\"Morphemes:\", morphemes)\n"
   ]
  },
  {
   "cell_type": "code",
   "execution_count": null,
   "metadata": {
    "id": "XPtntfme1s8B"
   },
   "outputs": [],
   "source": []
  },
  {
   "cell_type": "code",
   "execution_count": null,
   "metadata": {},
   "outputs": [],
   "source": []
  }
 ],
 "metadata": {
  "colab": {
   "authorship_tag": "ABX9TyOVSqBRDoLn5A3ELluhiSao",
   "provenance": []
  },
  "kernelspec": {
   "display_name": "Python 3 (ipykernel)",
   "language": "python",
   "name": "python3"
  },
  "language_info": {
   "codemirror_mode": {
    "name": "ipython",
    "version": 3
   },
   "file_extension": ".py",
   "mimetype": "text/x-python",
   "name": "python",
   "nbconvert_exporter": "python",
   "pygments_lexer": "ipython3",
   "version": "3.11.5"
  }
 },
 "nbformat": 4,
 "nbformat_minor": 1
}
