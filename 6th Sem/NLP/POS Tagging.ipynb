{
 "cells": [
  {
   "cell_type": "code",
   "execution_count": 3,
   "id": "e0eb3b4a",
   "metadata": {},
   "outputs": [
    {
     "name": "stdout",
     "output_type": "stream",
     "text": [
      "[('Walking', 'VBG'), ('swiftly,', 'SYM'), ('Suprith', 'NNP'), ('admired', 'VBD'), ('the', 'NN'), ('trees', 'NNS'), ('and', 'NN'), ('flowers', 'NNS'), ('blooming', 'VBG'), ('in', 'NN'), ('the', 'NN'), ('gardens', 'NNS'), ('of', 'NN'), ('Bengaluru,', 'SYM'), ('noting', 'VBG'), ('that', 'NN'), ('some', 'NN'), ('were', 'NN'), ('recently', 'RB'), ('planted', 'VBD'), ('in', 'NN'), ('2024.', 'SYM')]\n"
     ]
    }
   ],
   "source": [
    "# Define a function to perform parts of speech tagging\n",
    "def pos_tagging(sentence):\n",
    "    tags = []\n",
    "    words = sentence.split()\n",
    "    \n",
    "    for word in words:\n",
    "        # Check for basic patterns to determine the POS\n",
    "        if word.endswith('ing'):\n",
    "            tags.append((word, 'VBG'))  # Verb, Gerund\n",
    "        elif word.endswith('ed'):\n",
    "            tags.append((word, 'VBD'))  # Verb, Past tense\n",
    "        elif word.isdigit():\n",
    "            tags.append((word, 'CD'))   # Cardinal Number\n",
    "        elif word.isalpha():\n",
    "            if word.endswith(('ly', 'ing', 'ed')):\n",
    "                tags.append((word, 'RB'))  # Adverb\n",
    "            elif word.endswith(('s', 'es')):\n",
    "                tags.append((word, 'NNS'))  # Noun, Plural\n",
    "            elif word.endswith('ly'):\n",
    "                tags.append((word, 'RB'))  # Adverb\n",
    "            elif word[0].isupper():\n",
    "                tags.append((word, 'NNP'))  # Proper Noun\n",
    "            else:\n",
    "                tags.append((word, 'NN'))  # Noun\n",
    "        else:\n",
    "            tags.append((word, 'SYM'))  # Symbol\n",
    "    \n",
    "    return tags\n",
    "\n",
    "# Example usage\n",
    "text = \"Walking swiftly, Suprith admired the trees and flowers blooming in the gardens of Bengaluru, noting that some were recently planted in 2024.\"\n",
    "tagged_text = pos_tagging(text)\n",
    "print(tagged_text)\n"
   ]
  },
  {
   "cell_type": "code",
   "execution_count": null,
   "id": "52d1b2cc",
   "metadata": {},
   "outputs": [],
   "source": []
  }
 ],
 "metadata": {
  "kernelspec": {
   "display_name": "Python 3 (ipykernel)",
   "language": "python",
   "name": "python3"
  },
  "language_info": {
   "codemirror_mode": {
    "name": "ipython",
    "version": 3
   },
   "file_extension": ".py",
   "mimetype": "text/x-python",
   "name": "python",
   "nbconvert_exporter": "python",
   "pygments_lexer": "ipython3",
   "version": "3.11.5"
  }
 },
 "nbformat": 4,
 "nbformat_minor": 5
}
