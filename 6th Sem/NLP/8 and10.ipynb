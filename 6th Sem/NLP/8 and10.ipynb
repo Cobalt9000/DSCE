{
 "cells": [
  {
   "cell_type": "code",
   "execution_count": 1,
   "id": "7a31eab0",
   "metadata": {},
   "outputs": [
    {
     "name": "stdout",
     "output_type": "stream",
     "text": [
      "Accuracy: 1.0\n",
      "Confusion Matrix:\n",
      "[[2 0]\n",
      " [0 3]]\n",
      "Predictions: ['positive' 'positive']\n"
     ]
    }
   ],
   "source": [
    "from sklearn.feature_extraction.text import CountVectorizer\n",
    "from sklearn.naive_bayes import MultinomialNB\n",
    "from sklearn.metrics import accuracy_score, confusion_matrix\n",
    "\n",
    "# Sample data\n",
    "text = [\n",
    "    \"This movie was great!\",\n",
    "    \"I didn't enjoy the movie at all.\",\n",
    "    \"The acting was mediocre, but the story was captivating.\",\n",
    "    \"What a waste of time and money.\",\n",
    "    \"A masterpiece! Definitely worth watching.\"\n",
    "]\n",
    "labels = [\"positive\", \"negative\", \"positive\", \"negative\", \"positive\"]\n",
    "\n",
    "# Step 1: Preprocess and vectorize the text data\n",
    "vectorizer = CountVectorizer()\n",
    "X = vectorizer.fit_transform(text)\n",
    "\n",
    "# Step 2: Split the data into train and test sets\n",
    "# (omitted for simplicity)\n",
    "\n",
    "# Step 3: Train the Naive Bayes model\n",
    "nb = MultinomialNB()\n",
    "nb.fit(X, labels)\n",
    "\n",
    "# Step 4: Evaluate the model\n",
    "y_pred = nb.predict(X)\n",
    "accuracy = accuracy_score(labels, y_pred)\n",
    "print(\"Accuracy:\", accuracy)\n",
    "print(\"Confusion Matrix:\")\n",
    "print(confusion_matrix(labels, y_pred))\n",
    "\n",
    "# Step 5: Use the model for sentiment prediction\n",
    "new_text = [\"This product is amazing!\", \"I had a terrible experience.\"]\n",
    "new_X = vectorizer.transform(new_text)\n",
    "predictions = nb.predict(new_X)\n",
    "print(\"Predictions:\", predictions)\n"
   ]
  },
  {
   "cell_type": "code",
   "execution_count": 31,
   "id": "bed2204b",
   "metadata": {},
   "outputs": [
    {
     "name": "stdout",
     "output_type": "stream",
     "text": [
      "Word: I, Morpheme: I, POS Tag: PRP, Features: [('I', 'PRP')]\n",
      "Word: am, Morpheme: am, POS Tag: VBP, Features: [('am', 'VBP')]\n",
      "Word: reading, Morpheme: reading, POS Tag: VBG, Features: [('reading', 'NN')]\n",
      "Word: books, Morpheme: books, POS Tag: NNS, Features: [('books', 'NNS')]\n",
      "Word: ., Morpheme: ., POS Tag: ., Features: [('.', '.')]\n",
      "Word: They, Morpheme: They, POS Tag: PRP, Features: [('They', 'PRP')]\n",
      "Word: were, Morpheme: were, POS Tag: VBD, Features: [('were', 'VBD')]\n",
      "Word: written, Morpheme: written, POS Tag: VBN, Features: [('written', 'VBN')]\n",
      "Word: by, Morpheme: by, POS Tag: IN, Features: [('by', 'IN')]\n",
      "Word: famous, Morpheme: famous, POS Tag: JJ, Features: [('famous', 'JJ')]\n",
      "Word: authors, Morpheme: authors, POS Tag: NNS, Features: [('authors', 'NNS')]\n",
      "Word: ., Morpheme: ., POS Tag: ., Features: [('.', '.')]\n"
     ]
    }
   ],
   "source": [
    "import nltk\n",
    "\n",
    "# Sample corpus\n",
    "corpus = \"I am reading books. They were written by famous authors.\"\n",
    "\n",
    "# Tokenization\n",
    "tokens = nltk.word_tokenize(corpus)\n",
    "\n",
    "# Part-of-Speech Tagging\n",
    "tagged_tokens = nltk.pos_tag(tokens)\n",
    "\n",
    "# Morphological Segmentation and Analysis\n",
    "for word, pos_tag in tagged_tokens:\n",
    "    morphemes = nltk.word_tokenize(word)\n",
    "    for morpheme in morphemes:\n",
    "        features = nltk.pos_tag([morpheme])\n",
    "        print(f\"Word: {word}, Morpheme: {morpheme}, POS Tag: {pos_tag}, Features: {features}\")"
   ]
  },
  {
   "cell_type": "code",
   "execution_count": null,
   "id": "414932b4",
   "metadata": {},
   "outputs": [],
   "source": []
  }
 ],
 "metadata": {
  "kernelspec": {
   "display_name": "Python 3 (ipykernel)",
   "language": "python",
   "name": "python3"
  },
  "language_info": {
   "codemirror_mode": {
    "name": "ipython",
    "version": 3
   },
   "file_extension": ".py",
   "mimetype": "text/x-python",
   "name": "python",
   "nbconvert_exporter": "python",
   "pygments_lexer": "ipython3",
   "version": "3.11.5"
  }
 },
 "nbformat": 4,
 "nbformat_minor": 5
}
